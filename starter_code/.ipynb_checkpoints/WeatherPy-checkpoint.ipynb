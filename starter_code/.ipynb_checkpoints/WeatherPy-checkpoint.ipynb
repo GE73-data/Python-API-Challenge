{
 "cells": [
  {
   "cell_type": "markdown",
   "metadata": {},
   "source": [
    "# WeatherPy\n",
    "----\n",
    "\n",
    "#### Note\n",
    "* Instructions have been included for each segment. You do not have to follow them exactly, but they are included to help you think through the steps."
   ]
  },
  {
   "cell_type": "code",
   "execution_count": 1,
   "metadata": {},
   "outputs": [
    {
     "name": "stdout",
     "output_type": "stream",
     "text": [
      "Requirement already satisfied: citipy in c:\\users\\glori\\anaconda3\\lib\\site-packages (0.0.5)\n",
      "Requirement already satisfied: kdtree>=0.12 in c:\\users\\glori\\anaconda3\\lib\\site-packages (from citipy) (0.16)\n"
     ]
    }
   ],
   "source": [
    "!pip install citipy"
   ]
  },
  {
   "cell_type": "code",
   "execution_count": 2,
   "metadata": {
    "scrolled": true
   },
   "outputs": [],
   "source": [
    "# Dependencies and Setup\n",
    "import matplotlib.pyplot as plt\n",
    "import pandas as pd\n",
    "import numpy as np\n",
    "import requests\n",
    "import time\n",
    "from scipy.stats import linregress\n",
    "from pprint import pprint\n",
    "\n",
    "# Import API key\n",
    "from api_keys import weather_api_key\n",
    "\n",
    "# Incorporated citipy to determine city based on latitude and longitude\n",
    "from citipy import citipy\n",
    "\n",
    "# Output File (CSV)\n",
    "output_data_file = \"output_data/cities.csv\"\n",
    "\n",
    "# Range of latitudes and longitudes\n",
    "lat_range = (-90, 90)\n",
    "lng_range = (-180, 180)"
   ]
  },
  {
   "cell_type": "markdown",
   "metadata": {},
   "source": [
    "## Generate Cities List"
   ]
  },
  {
   "cell_type": "code",
   "execution_count": 3,
   "metadata": {},
   "outputs": [
    {
     "data": {
      "text/plain": [
       "610"
      ]
     },
     "execution_count": 3,
     "metadata": {},
     "output_type": "execute_result"
    }
   ],
   "source": [
    "# List for holding lat_lngs and cities\n",
    "lat_lngs = []\n",
    "cities = []\n",
    "\n",
    "# Create a set of random lat and lng combinations\n",
    "lats = np.random.uniform(lat_range[0], lat_range[1], size=1500)\n",
    "lngs = np.random.uniform(lng_range[0], lng_range[1], size=1500)\n",
    "lat_lngs = zip(lats, lngs)\n",
    "\n",
    "# Identify nearest city for each lat, lng combination\n",
    "for lat_lng in lat_lngs:\n",
    "    city = citipy.nearest_city(lat_lng[0], lat_lng[1]).city_name\n",
    "    \n",
    "    # If the city is unique, then add it to a our cities list\n",
    "    if city not in cities:\n",
    "        cities.append(city)\n",
    "\n",
    "# Print the city count to confirm sufficient count\n",
    "len(cities)"
   ]
  },
  {
   "cell_type": "markdown",
   "metadata": {},
   "source": [
    "### Perform API Calls\n",
    "* Perform a weather check on each city using a series of successive API calls.\n",
    "* Include a print log of each city as it'sbeing processed (with the city number and city name).\n"
   ]
  },
  {
   "cell_type": "code",
   "execution_count": 4,
   "metadata": {
    "scrolled": true
   },
   "outputs": [
    {
     "name": "stdout",
     "output_type": "stream",
     "text": [
      "{'base': 'stations',\n",
      " 'clouds': {'all': 98},\n",
      " 'cod': 200,\n",
      " 'coord': {'lat': 51.5085, 'lon': -0.1257},\n",
      " 'dt': 1619802171,\n",
      " 'id': 2643743,\n",
      " 'main': {'feels_like': 281.74,\n",
      "          'humidity': 46,\n",
      "          'pressure': 1014,\n",
      "          'temp': 283.45,\n",
      "          'temp_max': 285.93,\n",
      "          'temp_min': 280.93},\n",
      " 'name': 'London',\n",
      " 'sys': {'country': 'GB',\n",
      "         'id': 1414,\n",
      "         'sunrise': 1619757233,\n",
      "         'sunset': 1619810479,\n",
      "         'type': 1},\n",
      " 'timezone': 3600,\n",
      " 'visibility': 10000,\n",
      " 'weather': [{'description': 'overcast clouds',\n",
      "              'icon': '04d',\n",
      "              'id': 804,\n",
      "              'main': 'Clouds'}],\n",
      " 'wind': {'deg': 150, 'speed': 3.09}}\n"
     ]
    }
   ],
   "source": [
    "url = \"http://api.openweathermap.org/data/2.5/weather?\"\n",
    "city = \"London\"\n",
    "\n",
    "# Build query URL\n",
    "query_url = url + \"appid=\" + weather_api_key + \"&q=\" + city\n",
    "\n",
    "weather_response = requests.get(query_url)\n",
    "weather_json = weather_response.json()\n",
    "\n",
    "# Get the temperature from the response\n",
    "# pprint(f\"The weather API responded with: {weather_json}.\")\n",
    "pprint(weather_json)\n"
   ]
  },
  {
   "cell_type": "code",
   "execution_count": 5,
   "metadata": {},
   "outputs": [
    {
     "data": {
      "text/plain": [
       "-0.1257"
      ]
     },
     "execution_count": 5,
     "metadata": {},
     "output_type": "execute_result"
    }
   ],
   "source": [
    "weather_json['coord']['lon']"
   ]
  },
  {
   "cell_type": "code",
   "execution_count": 6,
   "metadata": {},
   "outputs": [
    {
     "data": {
      "text/plain": [
       "51.5085"
      ]
     },
     "execution_count": 6,
     "metadata": {},
     "output_type": "execute_result"
    }
   ],
   "source": [
    "weather_json['coord']['lat']"
   ]
  },
  {
   "cell_type": "code",
   "execution_count": 7,
   "metadata": {},
   "outputs": [
    {
     "data": {
      "text/plain": [
       "3.09"
      ]
     },
     "execution_count": 7,
     "metadata": {},
     "output_type": "execute_result"
    }
   ],
   "source": [
    "weather_json['wind']['speed']"
   ]
  },
  {
   "cell_type": "code",
   "execution_count": 8,
   "metadata": {},
   "outputs": [
    {
     "data": {
      "text/plain": [
       "285.93"
      ]
     },
     "execution_count": 8,
     "metadata": {},
     "output_type": "execute_result"
    }
   ],
   "source": [
    "weather_json['main']['temp_max']"
   ]
  },
  {
   "cell_type": "code",
   "execution_count": 9,
   "metadata": {},
   "outputs": [
    {
     "data": {
      "text/plain": [
       "98"
      ]
     },
     "execution_count": 9,
     "metadata": {},
     "output_type": "execute_result"
    }
   ],
   "source": [
    "weather_json['clouds']['all']"
   ]
  },
  {
   "cell_type": "code",
   "execution_count": 10,
   "metadata": {},
   "outputs": [
    {
     "data": {
      "text/plain": [
       "46"
      ]
     },
     "execution_count": 10,
     "metadata": {},
     "output_type": "execute_result"
    }
   ],
   "source": [
    "weather_json['main']['humidity']"
   ]
  },
  {
   "cell_type": "code",
   "execution_count": 11,
   "metadata": {},
   "outputs": [
    {
     "data": {
      "text/plain": [
       "'GB'"
      ]
     },
     "execution_count": 11,
     "metadata": {},
     "output_type": "execute_result"
    }
   ],
   "source": [
    "weather_json['sys']['country']"
   ]
  },
  {
   "cell_type": "code",
   "execution_count": 12,
   "metadata": {},
   "outputs": [
    {
     "data": {
      "text/plain": [
       "1619802171"
      ]
     },
     "execution_count": 12,
     "metadata": {},
     "output_type": "execute_result"
    }
   ],
   "source": [
    "weather_json['dt']"
   ]
  },
  {
   "cell_type": "code",
   "execution_count": 13,
   "metadata": {},
   "outputs": [
    {
     "name": "stdout",
     "output_type": "stream",
     "text": [
      "manado was successfully added to our records\n",
      "trelew was successfully added to our records\n",
      "alakurtti was successfully added to our records\n",
      "ushuaia was successfully added to our records\n",
      "port alfred was successfully added to our records\n",
      "guerrero negro was successfully added to our records\n",
      "turkistan was successfully added to our records\n",
      "We failed to add tsihombe\n",
      "souillac was successfully added to our records\n",
      "We failed to add macaboboni\n",
      "mamakan was successfully added to our records\n",
      "thompson was successfully added to our records\n",
      "guadalajara was successfully added to our records\n",
      "busselton was successfully added to our records\n",
      "hilo was successfully added to our records\n",
      "praia da vitoria was successfully added to our records\n",
      "trairi was successfully added to our records\n",
      "fortuna was successfully added to our records\n",
      "churapcha was successfully added to our records\n",
      "tuatapere was successfully added to our records\n",
      "dikson was successfully added to our records\n",
      "arraial do cabo was successfully added to our records\n",
      "We failed to add louisbourg\n",
      "menemen was successfully added to our records\n",
      "castro was successfully added to our records\n",
      "iqaluit was successfully added to our records\n",
      "carnarvon was successfully added to our records\n",
      "We failed to add taolanaro\n",
      "hithadhoo was successfully added to our records\n",
      "kapoeta was successfully added to our records\n",
      "lazaro cardenas was successfully added to our records\n",
      "bilma was successfully added to our records\n",
      "cabo san lucas was successfully added to our records\n",
      "inza was successfully added to our records\n",
      "esperance was successfully added to our records\n",
      "We failed to add barawe\n",
      "dunda was successfully added to our records\n",
      "chokurdakh was successfully added to our records\n",
      "camana was successfully added to our records\n",
      "lipin bor was successfully added to our records\n",
      "barrow was successfully added to our records\n",
      "aripuana was successfully added to our records\n",
      "mar del plata was successfully added to our records\n",
      "binzhou was successfully added to our records\n",
      "shatoy was successfully added to our records\n",
      "bredasdorp was successfully added to our records\n",
      "atuona was successfully added to our records\n",
      "butaritari was successfully added to our records\n",
      "bataipora was successfully added to our records\n",
      "pundaguitan was successfully added to our records\n",
      "We failed to add rungata\n",
      "ponta do sol was successfully added to our records\n",
      "new norfolk was successfully added to our records\n",
      "ilulissat was successfully added to our records\n",
      "nha trang was successfully added to our records\n",
      "cape town was successfully added to our records\n",
      "We failed to add nizhneyansk\n",
      "santa isabel do rio negro was successfully added to our records\n",
      "bahia blanca was successfully added to our records\n",
      "fatehpur was successfully added to our records\n",
      "kununurra was successfully added to our records\n",
      "katherine was successfully added to our records\n",
      "punta arenas was successfully added to our records\n",
      "khatanga was successfully added to our records\n",
      "vao was successfully added to our records\n",
      "korla was successfully added to our records\n",
      "We failed to add saleaula\n",
      "jamestown was successfully added to our records\n",
      "rikitea was successfully added to our records\n",
      "hermanus was successfully added to our records\n",
      "whitley bay was successfully added to our records\n",
      "carutapera was successfully added to our records\n",
      "We failed to add umzimvubu\n",
      "pasighat was successfully added to our records\n",
      "We failed to add samusu\n",
      "antofagasta was successfully added to our records\n",
      "bluff was successfully added to our records\n",
      "hasaki was successfully added to our records\n",
      "kodiak was successfully added to our records\n",
      "rio gallegos was successfully added to our records\n",
      "mastung was successfully added to our records\n",
      "mataura was successfully added to our records\n",
      "eldorado was successfully added to our records\n",
      "albany was successfully added to our records\n",
      "We failed to add hunza\n",
      "kamyzyak was successfully added to our records\n",
      "mayo was successfully added to our records\n",
      "gornopravdinsk was successfully added to our records\n",
      "hofn was successfully added to our records\n",
      "zainsk was successfully added to our records\n",
      "valparaiso was successfully added to our records\n",
      "batagay-alyta was successfully added to our records\n",
      "itarema was successfully added to our records\n",
      "port hedland was successfully added to our records\n",
      "arawa was successfully added to our records\n",
      "kisujszallas was successfully added to our records\n",
      "mana was successfully added to our records\n",
      "avarua was successfully added to our records\n",
      "We failed to add burica\n",
      "puerto ayora was successfully added to our records\n",
      "We failed to add vaitupu\n",
      "teya was successfully added to our records\n",
      "batagay was successfully added to our records\n",
      "cordoba was successfully added to our records\n",
      "chimore was successfully added to our records\n",
      "tasiilaq was successfully added to our records\n",
      "vaini was successfully added to our records\n",
      "smithers was successfully added to our records\n",
      "severo-kurilsk was successfully added to our records\n",
      "maneromango was successfully added to our records\n",
      "namioka was successfully added to our records\n",
      "panacan was successfully added to our records\n",
      "touros was successfully added to our records\n",
      "debre sina was successfully added to our records\n",
      "qurayyat was successfully added to our records\n",
      "hobart was successfully added to our records\n",
      "tiksi was successfully added to our records\n",
      "san patricio was successfully added to our records\n",
      "qaanaaq was successfully added to our records\n",
      "lorengau was successfully added to our records\n",
      "pedro betancourt was successfully added to our records\n",
      "flin flon was successfully added to our records\n",
      "nawa was successfully added to our records\n",
      "ponazyrevo was successfully added to our records\n",
      "halifax was successfully added to our records\n",
      "kapaa was successfully added to our records\n",
      "We failed to add illoqqortoormiut\n",
      "lompoc was successfully added to our records\n",
      "bambous virieux was successfully added to our records\n",
      "yellowknife was successfully added to our records\n",
      "belyy yar was successfully added to our records\n",
      "We failed to add viligili\n",
      "We failed to add yanchukan\n",
      "chuy was successfully added to our records\n",
      "encantado was successfully added to our records\n",
      "constitucion was successfully added to our records\n",
      "salsomaggiore terme was successfully added to our records\n",
      "mankono was successfully added to our records\n",
      "bengkulu was successfully added to our records\n",
      "raudeberg was successfully added to our records\n",
      "larsnes was successfully added to our records\n",
      "borba was successfully added to our records\n",
      "lebu was successfully added to our records\n",
      "salinas was successfully added to our records\n",
      "laguna was successfully added to our records\n",
      "umm lajj was successfully added to our records\n",
      "krasnyy yar was successfully added to our records\n",
      "faanui was successfully added to our records\n",
      "guadalupe y calvo was successfully added to our records\n",
      "We failed to add shchelyayur\n",
      "broken hill was successfully added to our records\n",
      "upernavik was successfully added to our records\n",
      "taoudenni was successfully added to our records\n",
      "hay river was successfully added to our records\n",
      "zlobin was successfully added to our records\n",
      "mahebourg was successfully added to our records\n",
      "formosa do rio preto was successfully added to our records\n",
      "misratah was successfully added to our records\n",
      "georgetown was successfully added to our records\n",
      "egvekinot was successfully added to our records\n",
      "toowoomba was successfully added to our records\n",
      "mokhsogollokh was successfully added to our records\n",
      "vera cruz was successfully added to our records\n",
      "bryan was successfully added to our records\n",
      "port elizabeth was successfully added to our records\n",
      "bogande was successfully added to our records\n",
      "ocean city was successfully added to our records\n",
      "college was successfully added to our records\n",
      "praya was successfully added to our records\n",
      "adrar was successfully added to our records\n",
      "mahon was successfully added to our records\n",
      "lagoa was successfully added to our records\n",
      "kieta was successfully added to our records\n",
      "cherskiy was successfully added to our records\n",
      "saint-philippe was successfully added to our records\n",
      "srednekolymsk was successfully added to our records\n",
      "airai was successfully added to our records\n",
      "We failed to add grand river south east\n",
      "barcelos was successfully added to our records\n",
      "hit was successfully added to our records\n",
      "north battleford was successfully added to our records\n",
      "te anau was successfully added to our records\n",
      "san mateo del mar was successfully added to our records\n",
      "ha giang was successfully added to our records\n",
      "gamba was successfully added to our records\n",
      "nanortalik was successfully added to our records\n",
      "padang was successfully added to our records\n",
      "olinda was successfully added to our records\n",
      "mangai was successfully added to our records\n",
      "leningradskiy was successfully added to our records\n",
      "christchurch was successfully added to our records\n",
      "tual was successfully added to our records\n",
      "la rioja was successfully added to our records\n",
      "birjand was successfully added to our records\n",
      "makat was successfully added to our records\n",
      "gat was successfully added to our records\n",
      "grindavik was successfully added to our records\n",
      "tilichiki was successfully added to our records\n",
      "stettler was successfully added to our records\n",
      "san cristobal was successfully added to our records\n",
      "sauga was successfully added to our records\n",
      "We failed to add mys shmidta\n",
      "honningsvag was successfully added to our records\n",
      "We failed to add tumannyy\n",
      "sofiyivka was successfully added to our records\n",
      "anadyr was successfully added to our records\n",
      "east london was successfully added to our records\n",
      "ayan was successfully added to our records\n",
      "nsanje was successfully added to our records\n",
      "provideniya was successfully added to our records\n",
      "saldanha was successfully added to our records\n",
      "verkhnevilyuysk was successfully added to our records\n",
      "ust-ilimsk was successfully added to our records\n",
      "kaliganj was successfully added to our records\n",
      "chifeng was successfully added to our records\n",
      "itoman was successfully added to our records\n",
      "klaksvik was successfully added to our records\n",
      "sitka was successfully added to our records\n",
      "dalaba was successfully added to our records\n",
      "esso was successfully added to our records\n",
      "narsaq was successfully added to our records\n",
      "sur was successfully added to our records\n",
      "vardo was successfully added to our records\n",
      "opuwo was successfully added to our records\n",
      "We failed to add attawapiskat\n",
      "meadow lake was successfully added to our records\n",
      "tuktoyaktuk was successfully added to our records\n",
      "virginia beach was successfully added to our records\n",
      "We failed to add sorvag\n",
      "isangel was successfully added to our records\n",
      "saskylakh was successfully added to our records\n",
      "oranjemund was successfully added to our records\n",
      "hamilton was successfully added to our records\n",
      "west bay was successfully added to our records\n",
      "huarmey was successfully added to our records\n",
      "amapa was successfully added to our records\n",
      "kaeo was successfully added to our records\n",
      "mitsamiouli was successfully added to our records\n",
      "We failed to add barentsburg\n",
      "asau was successfully added to our records\n",
      "victoria was successfully added to our records\n",
      "nampula was successfully added to our records\n",
      "lewistown was successfully added to our records\n",
      "uthal was successfully added to our records\n",
      "mehamn was successfully added to our records\n",
      "bisauli was successfully added to our records\n",
      "clyde was successfully added to our records\n",
      "saint-pierre was successfully added to our records\n",
      "hami was successfully added to our records\n",
      "aosta was successfully added to our records\n",
      "baruun-urt was successfully added to our records\n",
      "zhigalovo was successfully added to our records\n",
      "calabar was successfully added to our records\n",
      "buala was successfully added to our records\n",
      "pangody was successfully added to our records\n",
      "copacabana was successfully added to our records\n",
      "poum was successfully added to our records\n",
      "huangmei was successfully added to our records\n",
      "We failed to add kuche\n",
      "kavieng was successfully added to our records\n",
      "cayenne was successfully added to our records\n",
      "at-bashi was successfully added to our records\n",
      "kharp was successfully added to our records\n",
      "nipawin was successfully added to our records\n",
      "oblivskaya was successfully added to our records\n",
      "tessalit was successfully added to our records\n",
      "tazovskiy was successfully added to our records\n",
      "xuanhua was successfully added to our records\n",
      "saint george was successfully added to our records\n",
      "araouane was successfully added to our records\n",
      "lamu was successfully added to our records\n",
      "beloha was successfully added to our records\n",
      "We failed to add ngukurr\n",
      "mongo was successfully added to our records\n",
      "makakilo city was successfully added to our records\n",
      "amurzet was successfully added to our records\n",
      "We failed to add pskent\n",
      "berezovyy was successfully added to our records\n",
      "nikolskoye was successfully added to our records\n",
      "flinders was successfully added to our records\n",
      "dingle was successfully added to our records\n",
      "northam was successfully added to our records\n",
      "kuraymah was successfully added to our records\n",
      "karratha was successfully added to our records\n",
      "nome was successfully added to our records\n",
      "rehoboth was successfully added to our records\n",
      "ribeira grande was successfully added to our records\n",
      "ancud was successfully added to our records\n",
      "santo domingo was successfully added to our records\n",
      "aykhal was successfully added to our records\n",
      "We failed to add meyungs\n",
      "husavik was successfully added to our records\n",
      "san quintin was successfully added to our records\n",
      "cidreira was successfully added to our records\n",
      "myaundzha was successfully added to our records\n",
      "massakory was successfully added to our records\n",
      "san juan was successfully added to our records\n",
      "lavrentiya was successfully added to our records\n",
      "quang ngai was successfully added to our records\n",
      "cockburn town was successfully added to our records\n",
      "aksarka was successfully added to our records\n",
      "kampot was successfully added to our records\n",
      "ponta delgada was successfully added to our records\n",
      "trincomalee was successfully added to our records\n",
      "ishigaki was successfully added to our records\n",
      "aklavik was successfully added to our records\n",
      "yashkul was successfully added to our records\n",
      "norman wells was successfully added to our records\n",
      "gizo was successfully added to our records\n",
      "We failed to add aflu\n",
      "We failed to add belushya guba\n",
      "tautira was successfully added to our records\n",
      "tiznit was successfully added to our records\n",
      "marsh harbour was successfully added to our records\n",
      "We failed to add amderma\n",
      "camacha was successfully added to our records\n",
      "krasnaya gora was successfully added to our records\n",
      "beyneu was successfully added to our records\n",
      "shelburne was successfully added to our records\n",
      "nardaran was successfully added to our records\n",
      "berlevag was successfully added to our records\n",
      "the valley was successfully added to our records\n",
      "dobrljin was successfully added to our records\n",
      "bolanos de calatrava was successfully added to our records\n",
      "santander was successfully added to our records\n",
      "shahr-e babak was successfully added to our records\n",
      "whitehorse was successfully added to our records\n",
      "We failed to add palabuhanratu\n",
      "samfya was successfully added to our records\n",
      "barwadih was successfully added to our records\n",
      "nanakuli was successfully added to our records\n",
      "kodinsk was successfully added to our records\n",
      "caconda was successfully added to our records\n",
      "kashi was successfully added to our records\n",
      "belaya gora was successfully added to our records\n",
      "nelson bay was successfully added to our records\n",
      "chalchihuites was successfully added to our records\n",
      "havre-saint-pierre was successfully added to our records\n",
      "hualmay was successfully added to our records\n",
      "knyaze-volkonskoye was successfully added to our records\n",
      "talaya was successfully added to our records\n",
      "We failed to add rawannawi\n",
      "huilong was successfully added to our records\n",
      "bratsk was successfully added to our records\n",
      "grand gaube was successfully added to our records\n",
      "iberia was successfully added to our records\n",
      "thunder bay was successfully added to our records\n",
      "mount gambier was successfully added to our records\n",
      "rodrigues alves was successfully added to our records\n",
      "nicoya was successfully added to our records\n",
      "svay rieng was successfully added to our records\n",
      "We failed to add lemesos\n",
      "zheshart was successfully added to our records\n",
      "strezhevoy was successfully added to our records\n",
      "yulara was successfully added to our records\n",
      "metro was successfully added to our records\n",
      "seddon was successfully added to our records\n",
      "galesong was successfully added to our records\n",
      "We failed to add wazzan\n",
      "lebyazhye was successfully added to our records\n",
      "brae was successfully added to our records\n",
      "vila velha was successfully added to our records\n",
      "la palma was successfully added to our records\n",
      "caravelas was successfully added to our records\n",
      "steinbach was successfully added to our records\n",
      "ostrovnoy was successfully added to our records\n",
      "yanam was successfully added to our records\n",
      "bud was successfully added to our records\n",
      "ambulu was successfully added to our records\n",
      "qaqortoq was successfully added to our records\n",
      "rudersberg was successfully added to our records\n",
      "torbay was successfully added to our records\n",
      "We failed to add haibowan\n",
      "wanning was successfully added to our records\n",
      "kaitangata was successfully added to our records\n",
      "phonhong was successfully added to our records\n",
      "beidao was successfully added to our records\n",
      "jablanica was successfully added to our records\n",
      "san policarpo was successfully added to our records\n",
      "kloulklubed was successfully added to our records\n",
      "minab was successfully added to our records\n",
      "ust-kuyga was successfully added to our records\n",
      "aitape was successfully added to our records\n",
      "peddapalli was successfully added to our records\n",
      "haines junction was successfully added to our records\n",
      "We failed to add ozgon\n",
      "lagos was successfully added to our records\n",
      "geraldton was successfully added to our records\n",
      "We failed to add marcona\n",
      "taft was successfully added to our records\n",
      "luderitz was successfully added to our records\n",
      "toamasina was successfully added to our records\n",
      "pevek was successfully added to our records\n",
      "ulladulla was successfully added to our records\n",
      "kruisfontein was successfully added to our records\n",
      "biskamzha was successfully added to our records\n",
      "toronto was successfully added to our records\n",
      "kahului was successfully added to our records\n",
      "gafargaon was successfully added to our records\n",
      "We failed to add toliary\n",
      "marshall was successfully added to our records\n",
      "barao de melgaco was successfully added to our records\n",
      "chernyshevskiy was successfully added to our records\n",
      "pizarro was successfully added to our records\n",
      "pointe michel was successfully added to our records\n",
      "lae was successfully added to our records\n",
      "bokovskaya was successfully added to our records\n",
      "faya was successfully added to our records\n",
      "kautokeino was successfully added to our records\n",
      "matagami was successfully added to our records\n",
      "matamoros was successfully added to our records\n",
      "sosnytsya was successfully added to our records\n",
      "bandrele was successfully added to our records\n",
      "imeni poliny osipenko was successfully added to our records\n",
      "gondanglegi was successfully added to our records\n",
      "kulhudhuffushi was successfully added to our records\n",
      "pozoblanco was successfully added to our records\n",
      "kenai was successfully added to our records\n",
      "khash was successfully added to our records\n",
      "mashhad was successfully added to our records\n",
      "san borja was successfully added to our records\n",
      "nishihara was successfully added to our records\n",
      "We failed to add we\n",
      "hwange was successfully added to our records\n",
      "tyukhtet was successfully added to our records\n",
      "hobyo was successfully added to our records\n",
      "maldonado was successfully added to our records\n",
      "broome was successfully added to our records\n",
      "sonoita was successfully added to our records\n",
      "naze was successfully added to our records\n",
      "alofi was successfully added to our records\n",
      "katsuura was successfully added to our records\n",
      "popondetta was successfully added to our records\n",
      "buraydah was successfully added to our records\n",
      "We failed to add ksenyevka\n",
      "trzcianka was successfully added to our records\n",
      "oum hadjer was successfully added to our records\n",
      "coquimbo was successfully added to our records\n",
      "mayahi was successfully added to our records\n",
      "willmar was successfully added to our records\n",
      "voi was successfully added to our records\n",
      "pochutla was successfully added to our records\n",
      "paidha was successfully added to our records\n",
      "samarai was successfully added to our records\n",
      "kyzyl-suu was successfully added to our records\n",
      "juchen was successfully added to our records\n",
      "nouadhibou was successfully added to our records\n",
      "vanimo was successfully added to our records\n",
      "katangli was successfully added to our records\n",
      "goderich was successfully added to our records\n",
      "port lincoln was successfully added to our records\n",
      "sao filipe was successfully added to our records\n",
      "labuhan was successfully added to our records\n",
      "morant bay was successfully added to our records\n",
      "iralaya was successfully added to our records\n",
      "olafsvik was successfully added to our records\n",
      "pisco was successfully added to our records\n",
      "havelock was successfully added to our records\n",
      "deputatskiy was successfully added to our records\n",
      "busdi was successfully added to our records\n",
      "dickinson was successfully added to our records\n",
      "nantucket was successfully added to our records\n",
      "pitimbu was successfully added to our records\n",
      "beroroha was successfully added to our records\n",
      "longyearbyen was successfully added to our records\n",
      "sungaipenuh was successfully added to our records\n",
      "We failed to add ahumada\n",
      "provins was successfully added to our records\n",
      "tateyama was successfully added to our records\n",
      "nakhon phanom was successfully added to our records\n",
      "visby was successfully added to our records\n",
      "bousse was successfully added to our records\n",
      "We failed to add tabiauea\n",
      "kajaani was successfully added to our records\n",
      "taywarah was successfully added to our records\n",
      "clovis was successfully added to our records\n",
      "port augusta was successfully added to our records\n",
      "cunen was successfully added to our records\n",
      "madera was successfully added to our records\n",
      "carballo was successfully added to our records\n",
      "fairbanks was successfully added to our records\n",
      "shimoda was successfully added to our records\n",
      "gazojak was successfully added to our records\n",
      "bari was successfully added to our records\n",
      "kasempa was successfully added to our records\n",
      "sao desiderio was successfully added to our records\n",
      "mudigere was successfully added to our records\n",
      "chagoda was successfully added to our records\n",
      "sola was successfully added to our records\n",
      "nanhai was successfully added to our records\n",
      "kattivakkam was successfully added to our records\n",
      "ngunguru was successfully added to our records\n",
      "russell was successfully added to our records\n",
      "epe was successfully added to our records\n",
      "lesozavodsk was successfully added to our records\n",
      "kidal was successfully added to our records\n",
      "la libertad was successfully added to our records\n",
      "pontes e lacerda was successfully added to our records\n",
      "hue was successfully added to our records\n",
      "surt was successfully added to our records\n",
      "alyangula was successfully added to our records\n",
      "bemidji was successfully added to our records\n",
      "marystown was successfully added to our records\n",
      "rexburg was successfully added to our records\n",
      "zacualpan was successfully added to our records\n",
      "avera was successfully added to our records\n",
      "dalvik was successfully added to our records\n",
      "chake chake was successfully added to our records\n",
      "henties bay was successfully added to our records\n",
      "akyab was successfully added to our records\n",
      "bethel was successfully added to our records\n",
      "vila franca do campo was successfully added to our records\n",
      "kayalpattinam was successfully added to our records\n",
      "necochea was successfully added to our records\n",
      "seydi was successfully added to our records\n",
      "stephanskirchen was successfully added to our records\n",
      "jalu was successfully added to our records\n",
      "portland was successfully added to our records\n",
      "safaga was successfully added to our records\n",
      "severnoye was successfully added to our records\n",
      "We failed to add warqla\n",
      "terrak was successfully added to our records\n",
      "xunchang was successfully added to our records\n",
      "brigantine was successfully added to our records\n",
      "oistins was successfully added to our records\n",
      "yatou was successfully added to our records\n",
      "ust-tsilma was successfully added to our records\n",
      "puerto carreno was successfully added to our records\n",
      "We failed to add artyk\n",
      "yumen was successfully added to our records\n",
      "farafangana was successfully added to our records\n",
      "kolvereid was successfully added to our records\n",
      "omboue was successfully added to our records\n",
      "ukiah was successfully added to our records\n",
      "dunedin was successfully added to our records\n",
      "griffith was successfully added to our records\n",
      "We failed to add kadykchan\n",
      "porto walter was successfully added to our records\n",
      "gokak was successfully added to our records\n",
      "jaroslaw was successfully added to our records\n",
      "We failed to add barbar\n",
      "soller was successfully added to our records\n",
      "We failed to add kinanah\n",
      "bairiki was successfully added to our records\n",
      "We failed to add sentyabrskiy\n",
      "shingu was successfully added to our records\n",
      "baykit was successfully added to our records\n",
      "southbridge was successfully added to our records\n",
      "acapulco was successfully added to our records\n",
      "sale was successfully added to our records\n",
      "ambon was successfully added to our records\n",
      "codrington was successfully added to our records\n",
      "koslan was successfully added to our records\n",
      "laredo was successfully added to our records\n",
      "komsomolskiy was successfully added to our records\n",
      "hazorasp was successfully added to our records\n",
      "pahrump was successfully added to our records\n",
      "palmer was successfully added to our records\n",
      "neftcala was successfully added to our records\n",
      "whyalla was successfully added to our records\n",
      "barcelona was successfully added to our records\n",
      "marsabit was successfully added to our records\n",
      "beian was successfully added to our records\n",
      "ryotsu was successfully added to our records\n",
      "moerai was successfully added to our records\n",
      "aquiraz was successfully added to our records\n",
      "kirakira was successfully added to our records\n",
      "chiredzi was successfully added to our records\n",
      "la romana was successfully added to our records\n",
      "maravatio was successfully added to our records\n",
      "gawler was successfully added to our records\n",
      "sribne was successfully added to our records\n",
      "kafue was successfully added to our records\n",
      "vostok was successfully added to our records\n",
      "champerico was successfully added to our records\n",
      "williams lake was successfully added to our records\n",
      "ocampo was successfully added to our records\n",
      "iskateley was successfully added to our records\n",
      "la ronge was successfully added to our records\n",
      "kalmar was successfully added to our records\n",
      "turukhansk was successfully added to our records\n",
      "berbera was successfully added to our records\n",
      "ketchikan was successfully added to our records\n",
      "byron bay was successfully added to our records\n",
      "omsukchan was successfully added to our records\n",
      "vilhena was successfully added to our records\n",
      "We failed to add dien bien\n",
      "sinnamary was successfully added to our records\n",
      "la asuncion was successfully added to our records\n",
      "anqing was successfully added to our records\n",
      "We failed to add umm jarr\n",
      "conakry was successfully added to our records\n",
      "charters towers was successfully added to our records\n",
      "san andres was successfully added to our records\n",
      "tikrit was successfully added to our records\n",
      "paita was successfully added to our records\n",
      "dubasari was successfully added to our records\n",
      "auki was successfully added to our records\n",
      "We failed to add ye\n",
      "jiangyou was successfully added to our records\n",
      "taos was successfully added to our records\n",
      "bubaque was successfully added to our records\n",
      "arcata was successfully added to our records\n",
      "nurota was successfully added to our records\n",
      "north bend was successfully added to our records\n",
      "kutum was successfully added to our records\n",
      "port talbot was successfully added to our records\n",
      "siderno was successfully added to our records\n",
      "kantang was successfully added to our records\n",
      "coxim was successfully added to our records\n"
     ]
    }
   ],
   "source": [
    "url = \"http://api.openweathermap.org/data/2.5/weather?\"\n",
    "#list to hold the column for future dataframe\n",
    "lats=[]\n",
    "lngs=[]\n",
    "wind_speeds=[]\n",
    "max_temps=[]\n",
    "cloudiness=[]\n",
    "humidity=[]\n",
    "countries=[]\n",
    "dates=[]\n",
    "city_names=[]\n",
    "\n",
    "#Create for loops\n",
    "for city in cities:\n",
    "    \n",
    "    try:\n",
    "        \n",
    "        # Build query URL\n",
    "        query_url = url + \"appid=\" + weather_api_key + \"&q=\" + city\n",
    "\n",
    "        weather_response = requests.get(query_url)\n",
    "        weather_json = weather_response.json()\n",
    "\n",
    "        # Get the temperature from the response\n",
    "        # pprint(f\"The weather API responded with: {weather_json}.\")\n",
    "        # pprint(weather_json)\n",
    "        lngs.append(weather_json['coord']['lon'])\n",
    "        lats.append(weather_json['coord']['lat'])\n",
    "        wind_speeds.append(weather_json['wind']['speed'])\n",
    "        max_temps.append(weather_json['main']['temp_max'])\n",
    "        cloudiness.append(weather_json['clouds']['all'])\n",
    "        humidity.append(weather_json['main']['humidity'])\n",
    "        countries.append(weather_json['sys']['country'])\n",
    "        dates.append(weather_json['dt'])\n",
    "        city_names.append(city)\n",
    "        print(f\"{city} was successfully added to our records\")\n",
    "    except:\n",
    "        print(f\"We failed to add {city}\")"
   ]
  },
  {
   "cell_type": "markdown",
   "metadata": {},
   "source": [
    "### Convert Raw Data to DataFrame\n",
    "* Export the city data into a .csv.\n",
    "* Display the DataFrame"
   ]
  },
  {
   "cell_type": "code",
   "execution_count": 14,
   "metadata": {},
   "outputs": [
    {
     "data": {
      "text/html": [
       "<div>\n",
       "<style scoped>\n",
       "    .dataframe tbody tr th:only-of-type {\n",
       "        vertical-align: middle;\n",
       "    }\n",
       "\n",
       "    .dataframe tbody tr th {\n",
       "        vertical-align: top;\n",
       "    }\n",
       "\n",
       "    .dataframe thead th {\n",
       "        text-align: right;\n",
       "    }\n",
       "</style>\n",
       "<table border=\"1\" class=\"dataframe\">\n",
       "  <thead>\n",
       "    <tr style=\"text-align: right;\">\n",
       "      <th></th>\n",
       "      <th>City</th>\n",
       "      <th>Lat</th>\n",
       "      <th>Lng</th>\n",
       "      <th>Max Temp</th>\n",
       "      <th>Humidity</th>\n",
       "      <th>Cloudiness</th>\n",
       "      <th>Wind Speed</th>\n",
       "      <th>Country</th>\n",
       "      <th>Date</th>\n",
       "    </tr>\n",
       "  </thead>\n",
       "  <tbody>\n",
       "    <tr>\n",
       "      <th>0</th>\n",
       "      <td>manado</td>\n",
       "      <td>1.4870</td>\n",
       "      <td>124.8455</td>\n",
       "      <td>297.15</td>\n",
       "      <td>100</td>\n",
       "      <td>20</td>\n",
       "      <td>0.51</td>\n",
       "      <td>ID</td>\n",
       "      <td>1619802526</td>\n",
       "    </tr>\n",
       "    <tr>\n",
       "      <th>1</th>\n",
       "      <td>trelew</td>\n",
       "      <td>-43.2490</td>\n",
       "      <td>-65.3051</td>\n",
       "      <td>296.77</td>\n",
       "      <td>16</td>\n",
       "      <td>77</td>\n",
       "      <td>4.16</td>\n",
       "      <td>AR</td>\n",
       "      <td>1619802527</td>\n",
       "    </tr>\n",
       "    <tr>\n",
       "      <th>2</th>\n",
       "      <td>alakurtti</td>\n",
       "      <td>66.9672</td>\n",
       "      <td>30.3491</td>\n",
       "      <td>272.04</td>\n",
       "      <td>50</td>\n",
       "      <td>100</td>\n",
       "      <td>2.68</td>\n",
       "      <td>RU</td>\n",
       "      <td>1619802293</td>\n",
       "    </tr>\n",
       "    <tr>\n",
       "      <th>3</th>\n",
       "      <td>ushuaia</td>\n",
       "      <td>-54.8000</td>\n",
       "      <td>-68.3000</td>\n",
       "      <td>278.15</td>\n",
       "      <td>81</td>\n",
       "      <td>75</td>\n",
       "      <td>0.51</td>\n",
       "      <td>AR</td>\n",
       "      <td>1619802527</td>\n",
       "    </tr>\n",
       "    <tr>\n",
       "      <th>4</th>\n",
       "      <td>port alfred</td>\n",
       "      <td>-33.5906</td>\n",
       "      <td>26.8910</td>\n",
       "      <td>290.44</td>\n",
       "      <td>75</td>\n",
       "      <td>55</td>\n",
       "      <td>7.04</td>\n",
       "      <td>ZA</td>\n",
       "      <td>1619802527</td>\n",
       "    </tr>\n",
       "    <tr>\n",
       "      <th>...</th>\n",
       "      <td>...</td>\n",
       "      <td>...</td>\n",
       "      <td>...</td>\n",
       "      <td>...</td>\n",
       "      <td>...</td>\n",
       "      <td>...</td>\n",
       "      <td>...</td>\n",
       "      <td>...</td>\n",
       "      <td>...</td>\n",
       "    </tr>\n",
       "    <tr>\n",
       "      <th>554</th>\n",
       "      <td>kutum</td>\n",
       "      <td>14.2000</td>\n",
       "      <td>24.6667</td>\n",
       "      <td>303.37</td>\n",
       "      <td>12</td>\n",
       "      <td>9</td>\n",
       "      <td>3.56</td>\n",
       "      <td>SD</td>\n",
       "      <td>1619802655</td>\n",
       "    </tr>\n",
       "    <tr>\n",
       "      <th>555</th>\n",
       "      <td>port talbot</td>\n",
       "      <td>51.5924</td>\n",
       "      <td>-3.7802</td>\n",
       "      <td>282.59</td>\n",
       "      <td>72</td>\n",
       "      <td>61</td>\n",
       "      <td>2.77</td>\n",
       "      <td>GB</td>\n",
       "      <td>1619802597</td>\n",
       "    </tr>\n",
       "    <tr>\n",
       "      <th>556</th>\n",
       "      <td>siderno</td>\n",
       "      <td>38.2779</td>\n",
       "      <td>16.3020</td>\n",
       "      <td>293.71</td>\n",
       "      <td>88</td>\n",
       "      <td>20</td>\n",
       "      <td>2.06</td>\n",
       "      <td>IT</td>\n",
       "      <td>1619802656</td>\n",
       "    </tr>\n",
       "    <tr>\n",
       "      <th>557</th>\n",
       "      <td>kantang</td>\n",
       "      <td>7.4054</td>\n",
       "      <td>99.5156</td>\n",
       "      <td>298.20</td>\n",
       "      <td>90</td>\n",
       "      <td>100</td>\n",
       "      <td>1.31</td>\n",
       "      <td>TH</td>\n",
       "      <td>1619802656</td>\n",
       "    </tr>\n",
       "    <tr>\n",
       "      <th>558</th>\n",
       "      <td>coxim</td>\n",
       "      <td>-18.5067</td>\n",
       "      <td>-54.7600</td>\n",
       "      <td>306.07</td>\n",
       "      <td>19</td>\n",
       "      <td>100</td>\n",
       "      <td>1.85</td>\n",
       "      <td>BR</td>\n",
       "      <td>1619802656</td>\n",
       "    </tr>\n",
       "  </tbody>\n",
       "</table>\n",
       "<p>559 rows × 9 columns</p>\n",
       "</div>"
      ],
      "text/plain": [
       "            City      Lat       Lng  Max Temp  Humidity  Cloudiness  \\\n",
       "0         manado   1.4870  124.8455    297.15       100          20   \n",
       "1         trelew -43.2490  -65.3051    296.77        16          77   \n",
       "2      alakurtti  66.9672   30.3491    272.04        50         100   \n",
       "3        ushuaia -54.8000  -68.3000    278.15        81          75   \n",
       "4    port alfred -33.5906   26.8910    290.44        75          55   \n",
       "..           ...      ...       ...       ...       ...         ...   \n",
       "554        kutum  14.2000   24.6667    303.37        12           9   \n",
       "555  port talbot  51.5924   -3.7802    282.59        72          61   \n",
       "556      siderno  38.2779   16.3020    293.71        88          20   \n",
       "557      kantang   7.4054   99.5156    298.20        90         100   \n",
       "558        coxim -18.5067  -54.7600    306.07        19         100   \n",
       "\n",
       "     Wind Speed Country        Date  \n",
       "0          0.51      ID  1619802526  \n",
       "1          4.16      AR  1619802527  \n",
       "2          2.68      RU  1619802293  \n",
       "3          0.51      AR  1619802527  \n",
       "4          7.04      ZA  1619802527  \n",
       "..          ...     ...         ...  \n",
       "554        3.56      SD  1619802655  \n",
       "555        2.77      GB  1619802597  \n",
       "556        2.06      IT  1619802656  \n",
       "557        1.31      TH  1619802656  \n",
       "558        1.85      BR  1619802656  \n",
       "\n",
       "[559 rows x 9 columns]"
      ]
     },
     "execution_count": 14,
     "metadata": {},
     "output_type": "execute_result"
    }
   ],
   "source": [
    "#Create DataFrame\n",
    "city_df=pd.DataFrame({\n",
    "    \"City\":city_names,\n",
    "    \"Lat\":lats,\n",
    "    \"Lng\":lngs,\n",
    "    \"Max Temp\":max_temps,\n",
    "    \"Humidity\":humidity,\n",
    "    \"Cloudiness\":cloudiness,\n",
    "    \"Wind Speed\":wind_speeds,\n",
    "    \"Country\":countries,\n",
    "    \"Date\":dates    \n",
    "})\n",
    "city_df"
   ]
  },
  {
   "cell_type": "code",
   "execution_count": 15,
   "metadata": {},
   "outputs": [
    {
     "data": {
      "text/html": [
       "<div>\n",
       "<style scoped>\n",
       "    .dataframe tbody tr th:only-of-type {\n",
       "        vertical-align: middle;\n",
       "    }\n",
       "\n",
       "    .dataframe tbody tr th {\n",
       "        vertical-align: top;\n",
       "    }\n",
       "\n",
       "    .dataframe thead th {\n",
       "        text-align: right;\n",
       "    }\n",
       "</style>\n",
       "<table border=\"1\" class=\"dataframe\">\n",
       "  <thead>\n",
       "    <tr style=\"text-align: right;\">\n",
       "      <th></th>\n",
       "      <th>Lat</th>\n",
       "      <th>Lng</th>\n",
       "      <th>Max Temp</th>\n",
       "      <th>Humidity</th>\n",
       "      <th>Cloudiness</th>\n",
       "      <th>Wind Speed</th>\n",
       "      <th>Date</th>\n",
       "    </tr>\n",
       "  </thead>\n",
       "  <tbody>\n",
       "    <tr>\n",
       "      <th>count</th>\n",
       "      <td>559.000000</td>\n",
       "      <td>559.000000</td>\n",
       "      <td>559.000000</td>\n",
       "      <td>559.000000</td>\n",
       "      <td>559.000000</td>\n",
       "      <td>559.000000</td>\n",
       "      <td>5.590000e+02</td>\n",
       "    </tr>\n",
       "    <tr>\n",
       "      <th>mean</th>\n",
       "      <td>21.579901</td>\n",
       "      <td>17.519347</td>\n",
       "      <td>290.437496</td>\n",
       "      <td>66.060823</td>\n",
       "      <td>51.855098</td>\n",
       "      <td>3.798623</td>\n",
       "      <td>1.619803e+09</td>\n",
       "    </tr>\n",
       "    <tr>\n",
       "      <th>std</th>\n",
       "      <td>32.735756</td>\n",
       "      <td>92.310917</td>\n",
       "      <td>11.319555</td>\n",
       "      <td>23.731395</td>\n",
       "      <td>37.931821</td>\n",
       "      <td>2.512098</td>\n",
       "      <td>9.744278e+01</td>\n",
       "    </tr>\n",
       "    <tr>\n",
       "      <th>min</th>\n",
       "      <td>-54.800000</td>\n",
       "      <td>-179.166700</td>\n",
       "      <td>253.710000</td>\n",
       "      <td>3.000000</td>\n",
       "      <td>0.000000</td>\n",
       "      <td>0.340000</td>\n",
       "      <td>1.619802e+09</td>\n",
       "    </tr>\n",
       "    <tr>\n",
       "      <th>25%</th>\n",
       "      <td>-5.281250</td>\n",
       "      <td>-66.077550</td>\n",
       "      <td>282.150000</td>\n",
       "      <td>49.000000</td>\n",
       "      <td>14.500000</td>\n",
       "      <td>1.910000</td>\n",
       "      <td>1.619803e+09</td>\n",
       "    </tr>\n",
       "    <tr>\n",
       "      <th>50%</th>\n",
       "      <td>26.729200</td>\n",
       "      <td>22.677800</td>\n",
       "      <td>292.980000</td>\n",
       "      <td>71.000000</td>\n",
       "      <td>54.000000</td>\n",
       "      <td>3.100000</td>\n",
       "      <td>1.619803e+09</td>\n",
       "    </tr>\n",
       "    <tr>\n",
       "      <th>75%</th>\n",
       "      <td>47.560250</td>\n",
       "      <td>101.498750</td>\n",
       "      <td>299.150000</td>\n",
       "      <td>86.000000</td>\n",
       "      <td>90.000000</td>\n",
       "      <td>5.140000</td>\n",
       "      <td>1.619803e+09</td>\n",
       "    </tr>\n",
       "    <tr>\n",
       "      <th>max</th>\n",
       "      <td>78.218600</td>\n",
       "      <td>178.416700</td>\n",
       "      <td>314.260000</td>\n",
       "      <td>100.000000</td>\n",
       "      <td>100.000000</td>\n",
       "      <td>15.950000</td>\n",
       "      <td>1.619803e+09</td>\n",
       "    </tr>\n",
       "  </tbody>\n",
       "</table>\n",
       "</div>"
      ],
      "text/plain": [
       "              Lat         Lng    Max Temp    Humidity  Cloudiness  Wind Speed  \\\n",
       "count  559.000000  559.000000  559.000000  559.000000  559.000000  559.000000   \n",
       "mean    21.579901   17.519347  290.437496   66.060823   51.855098    3.798623   \n",
       "std     32.735756   92.310917   11.319555   23.731395   37.931821    2.512098   \n",
       "min    -54.800000 -179.166700  253.710000    3.000000    0.000000    0.340000   \n",
       "25%     -5.281250  -66.077550  282.150000   49.000000   14.500000    1.910000   \n",
       "50%     26.729200   22.677800  292.980000   71.000000   54.000000    3.100000   \n",
       "75%     47.560250  101.498750  299.150000   86.000000   90.000000    5.140000   \n",
       "max     78.218600  178.416700  314.260000  100.000000  100.000000   15.950000   \n",
       "\n",
       "               Date  \n",
       "count  5.590000e+02  \n",
       "mean   1.619803e+09  \n",
       "std    9.744278e+01  \n",
       "min    1.619802e+09  \n",
       "25%    1.619803e+09  \n",
       "50%    1.619803e+09  \n",
       "75%    1.619803e+09  \n",
       "max    1.619803e+09  "
      ]
     },
     "execution_count": 15,
     "metadata": {},
     "output_type": "execute_result"
    }
   ],
   "source": [
    "city_df.describe()"
   ]
  },
  {
   "cell_type": "markdown",
   "metadata": {},
   "source": [
    "## Inspect the data and remove the cities where the humidity > 100%.\n",
    "----\n",
    "Skip this step if there are no cities that have humidity > 100%. "
   ]
  },
  {
   "cell_type": "code",
   "execution_count": 16,
   "metadata": {},
   "outputs": [
    {
     "data": {
      "text/html": [
       "<div>\n",
       "<style scoped>\n",
       "    .dataframe tbody tr th:only-of-type {\n",
       "        vertical-align: middle;\n",
       "    }\n",
       "\n",
       "    .dataframe tbody tr th {\n",
       "        vertical-align: top;\n",
       "    }\n",
       "\n",
       "    .dataframe thead th {\n",
       "        text-align: right;\n",
       "    }\n",
       "</style>\n",
       "<table border=\"1\" class=\"dataframe\">\n",
       "  <thead>\n",
       "    <tr style=\"text-align: right;\">\n",
       "      <th></th>\n",
       "      <th>City</th>\n",
       "      <th>Lat</th>\n",
       "      <th>Lng</th>\n",
       "      <th>Max Temp</th>\n",
       "      <th>Humidity</th>\n",
       "      <th>Cloudiness</th>\n",
       "      <th>Wind Speed</th>\n",
       "      <th>Country</th>\n",
       "      <th>Date</th>\n",
       "    </tr>\n",
       "  </thead>\n",
       "  <tbody>\n",
       "  </tbody>\n",
       "</table>\n",
       "</div>"
      ],
      "text/plain": [
       "Empty DataFrame\n",
       "Columns: [City, Lat, Lng, Max Temp, Humidity, Cloudiness, Wind Speed, Country, Date]\n",
       "Index: []"
      ]
     },
     "execution_count": 16,
     "metadata": {},
     "output_type": "execute_result"
    }
   ],
   "source": [
    "#Dataframe to show cities wth humidity greater than 100\n",
    "city_df[city_df[\"Humidity\"]>100] #Verified that there are no cities with humidity greater than 100"
   ]
  },
  {
   "cell_type": "code",
   "execution_count": 17,
   "metadata": {},
   "outputs": [],
   "source": [
    "city_df.to_csv(\"City_Weather.csv\")\n"
   ]
  },
  {
   "cell_type": "markdown",
   "metadata": {},
   "source": [
    "## Plotting the Data\n",
    "* Use proper labeling of the plots using plot titles (including date of analysis) and axes labels.\n",
    "* Save the plotted figures as .pngs."
   ]
  },
  {
   "cell_type": "markdown",
   "metadata": {},
   "source": [
    "## Latitude vs. Temperature Plot"
   ]
  },
  {
   "cell_type": "code",
   "execution_count": 18,
   "metadata": {},
   "outputs": [
    {
     "data": {
      "text/html": [
       "<div>\n",
       "<style scoped>\n",
       "    .dataframe tbody tr th:only-of-type {\n",
       "        vertical-align: middle;\n",
       "    }\n",
       "\n",
       "    .dataframe tbody tr th {\n",
       "        vertical-align: top;\n",
       "    }\n",
       "\n",
       "    .dataframe thead th {\n",
       "        text-align: right;\n",
       "    }\n",
       "</style>\n",
       "<table border=\"1\" class=\"dataframe\">\n",
       "  <thead>\n",
       "    <tr style=\"text-align: right;\">\n",
       "      <th></th>\n",
       "      <th>City</th>\n",
       "      <th>Lat</th>\n",
       "      <th>Lng</th>\n",
       "      <th>Max Temp</th>\n",
       "      <th>Humidity</th>\n",
       "      <th>Cloudiness</th>\n",
       "      <th>Wind Speed</th>\n",
       "      <th>Country</th>\n",
       "      <th>Date</th>\n",
       "    </tr>\n",
       "  </thead>\n",
       "  <tbody>\n",
       "    <tr>\n",
       "      <th>0</th>\n",
       "      <td>manado</td>\n",
       "      <td>1.4870</td>\n",
       "      <td>124.8455</td>\n",
       "      <td>297.15</td>\n",
       "      <td>100</td>\n",
       "      <td>20</td>\n",
       "      <td>0.51</td>\n",
       "      <td>ID</td>\n",
       "      <td>1619802526</td>\n",
       "    </tr>\n",
       "    <tr>\n",
       "      <th>1</th>\n",
       "      <td>trelew</td>\n",
       "      <td>-43.2490</td>\n",
       "      <td>-65.3051</td>\n",
       "      <td>296.77</td>\n",
       "      <td>16</td>\n",
       "      <td>77</td>\n",
       "      <td>4.16</td>\n",
       "      <td>AR</td>\n",
       "      <td>1619802527</td>\n",
       "    </tr>\n",
       "    <tr>\n",
       "      <th>2</th>\n",
       "      <td>alakurtti</td>\n",
       "      <td>66.9672</td>\n",
       "      <td>30.3491</td>\n",
       "      <td>272.04</td>\n",
       "      <td>50</td>\n",
       "      <td>100</td>\n",
       "      <td>2.68</td>\n",
       "      <td>RU</td>\n",
       "      <td>1619802293</td>\n",
       "    </tr>\n",
       "    <tr>\n",
       "      <th>3</th>\n",
       "      <td>ushuaia</td>\n",
       "      <td>-54.8000</td>\n",
       "      <td>-68.3000</td>\n",
       "      <td>278.15</td>\n",
       "      <td>81</td>\n",
       "      <td>75</td>\n",
       "      <td>0.51</td>\n",
       "      <td>AR</td>\n",
       "      <td>1619802527</td>\n",
       "    </tr>\n",
       "    <tr>\n",
       "      <th>4</th>\n",
       "      <td>port alfred</td>\n",
       "      <td>-33.5906</td>\n",
       "      <td>26.8910</td>\n",
       "      <td>290.44</td>\n",
       "      <td>75</td>\n",
       "      <td>55</td>\n",
       "      <td>7.04</td>\n",
       "      <td>ZA</td>\n",
       "      <td>1619802527</td>\n",
       "    </tr>\n",
       "    <tr>\n",
       "      <th>...</th>\n",
       "      <td>...</td>\n",
       "      <td>...</td>\n",
       "      <td>...</td>\n",
       "      <td>...</td>\n",
       "      <td>...</td>\n",
       "      <td>...</td>\n",
       "      <td>...</td>\n",
       "      <td>...</td>\n",
       "      <td>...</td>\n",
       "    </tr>\n",
       "    <tr>\n",
       "      <th>554</th>\n",
       "      <td>kutum</td>\n",
       "      <td>14.2000</td>\n",
       "      <td>24.6667</td>\n",
       "      <td>303.37</td>\n",
       "      <td>12</td>\n",
       "      <td>9</td>\n",
       "      <td>3.56</td>\n",
       "      <td>SD</td>\n",
       "      <td>1619802655</td>\n",
       "    </tr>\n",
       "    <tr>\n",
       "      <th>555</th>\n",
       "      <td>port talbot</td>\n",
       "      <td>51.5924</td>\n",
       "      <td>-3.7802</td>\n",
       "      <td>282.59</td>\n",
       "      <td>72</td>\n",
       "      <td>61</td>\n",
       "      <td>2.77</td>\n",
       "      <td>GB</td>\n",
       "      <td>1619802597</td>\n",
       "    </tr>\n",
       "    <tr>\n",
       "      <th>556</th>\n",
       "      <td>siderno</td>\n",
       "      <td>38.2779</td>\n",
       "      <td>16.3020</td>\n",
       "      <td>293.71</td>\n",
       "      <td>88</td>\n",
       "      <td>20</td>\n",
       "      <td>2.06</td>\n",
       "      <td>IT</td>\n",
       "      <td>1619802656</td>\n",
       "    </tr>\n",
       "    <tr>\n",
       "      <th>557</th>\n",
       "      <td>kantang</td>\n",
       "      <td>7.4054</td>\n",
       "      <td>99.5156</td>\n",
       "      <td>298.20</td>\n",
       "      <td>90</td>\n",
       "      <td>100</td>\n",
       "      <td>1.31</td>\n",
       "      <td>TH</td>\n",
       "      <td>1619802656</td>\n",
       "    </tr>\n",
       "    <tr>\n",
       "      <th>558</th>\n",
       "      <td>coxim</td>\n",
       "      <td>-18.5067</td>\n",
       "      <td>-54.7600</td>\n",
       "      <td>306.07</td>\n",
       "      <td>19</td>\n",
       "      <td>100</td>\n",
       "      <td>1.85</td>\n",
       "      <td>BR</td>\n",
       "      <td>1619802656</td>\n",
       "    </tr>\n",
       "  </tbody>\n",
       "</table>\n",
       "<p>559 rows × 9 columns</p>\n",
       "</div>"
      ],
      "text/plain": [
       "            City      Lat       Lng  Max Temp  Humidity  Cloudiness  \\\n",
       "0         manado   1.4870  124.8455    297.15       100          20   \n",
       "1         trelew -43.2490  -65.3051    296.77        16          77   \n",
       "2      alakurtti  66.9672   30.3491    272.04        50         100   \n",
       "3        ushuaia -54.8000  -68.3000    278.15        81          75   \n",
       "4    port alfred -33.5906   26.8910    290.44        75          55   \n",
       "..           ...      ...       ...       ...       ...         ...   \n",
       "554        kutum  14.2000   24.6667    303.37        12           9   \n",
       "555  port talbot  51.5924   -3.7802    282.59        72          61   \n",
       "556      siderno  38.2779   16.3020    293.71        88          20   \n",
       "557      kantang   7.4054   99.5156    298.20        90         100   \n",
       "558        coxim -18.5067  -54.7600    306.07        19         100   \n",
       "\n",
       "     Wind Speed Country        Date  \n",
       "0          0.51      ID  1619802526  \n",
       "1          4.16      AR  1619802527  \n",
       "2          2.68      RU  1619802293  \n",
       "3          0.51      AR  1619802527  \n",
       "4          7.04      ZA  1619802527  \n",
       "..          ...     ...         ...  \n",
       "554        3.56      SD  1619802655  \n",
       "555        2.77      GB  1619802597  \n",
       "556        2.06      IT  1619802656  \n",
       "557        1.31      TH  1619802656  \n",
       "558        1.85      BR  1619802656  \n",
       "\n",
       "[559 rows x 9 columns]"
      ]
     },
     "execution_count": 18,
     "metadata": {},
     "output_type": "execute_result"
    }
   ],
   "source": [
    "city_df=pd.read_csv(\"City_Weather.csv\").drop(\"Unnamed: 0\", axis=1)\n",
    "city_df"
   ]
  },
  {
   "cell_type": "code",
   "execution_count": 19,
   "metadata": {
    "scrolled": true
   },
   "outputs": [
    {
     "data": {
      "image/png": "[encoded data removed]",
      "text/plain": [
       "<Figure size 432x288 with 1 Axes>"
      ]
     },
     "metadata": {
      "needs_background": "light"
     },
     "output_type": "display_data"
    }
   ],
   "source": [
    "#City Latitude vs Temperature Plot\n",
    "city_df.plot(kind='scatter', x='Lat', y='Max Temp', facecolors='blue')\n",
    "plt.title('City Latitude vs. Temperature')\n",
    "plt.xlabel('Latitude')\n",
    "plt.ylabel('Max Temperature')\n",
    "plt.grid()\n",
    "plt.savefig(\"../output_data/City Latitude vs. Max Temperature.png\")\n",
    "\n",
    "            "
   ]
  },
  {
   "cell_type": "markdown",
   "metadata": {},
   "source": [
    "## Latitude vs. Humidity Plot"
   ]
  },
  {
   "cell_type": "code",
   "execution_count": 20,
   "metadata": {},
   "outputs": [
    {
     "data": {
      "image/png": "[encoded data removed]",
      "text/plain": [
       "<Figure size 432x288 with 1 Axes>"
      ]
     },
     "metadata": {
      "needs_background": "light"
     },
     "output_type": "display_data"
    }
   ],
   "source": [
    "#City Latitude vs. Humidity Plot\n",
    "city_df.plot(kind='scatter', x='Lat', y='Humidity', facecolors='blue')\n",
    "plt.title('City Latitude vs. Humidity')\n",
    "plt.xlabel('Latitude')\n",
    "plt.ylabel('Humidity (%)')\n",
    "plt.grid()\n",
    "plt.savefig(\"../output_data/City Latitude vs. Humidity.png\")\n",
    "        "
   ]
  },
  {
   "cell_type": "markdown",
   "metadata": {},
   "source": [
    "## Latitude vs. Cloudiness Plot"
   ]
  },
  {
   "cell_type": "code",
   "execution_count": 21,
   "metadata": {},
   "outputs": [
    {
     "data": {
      "image/png": "[encoded data removed]",
      "text/plain": [
       "<Figure size 432x288 with 1 Axes>"
      ]
     },
     "metadata": {
      "needs_background": "light"
     },
     "output_type": "display_data"
    }
   ],
   "source": [
    "#City Latitude vs. Cloudiness Plot\n",
    "city_df.plot(kind='scatter', x='Lat', y='Cloudiness', facecolors='blue')\n",
    "plt.title('City Latitude vs. Cloudiness')\n",
    "plt.xlabel('Latitude')\n",
    "plt.ylabel('Cloudiness (%)')\n",
    "plt.grid()\n",
    "plt.savefig(\"../output_data/City Latitude vs. Cloudiness.png\")\n",
    "        "
   ]
  },
  {
   "cell_type": "markdown",
   "metadata": {},
   "source": [
    "## Latitude vs. Wind Speed Plot"
   ]
  },
  {
   "cell_type": "code",
   "execution_count": 22,
   "metadata": {},
   "outputs": [
    {
     "data": {
      "image/png": "[encoded data removed]",
      "text/plain": [
       "<Figure size 432x288 with 1 Axes>"
      ]
     },
     "metadata": {
      "needs_background": "light"
     },
     "output_type": "display_data"
    }
   ],
   "source": [
    "#City Latitude vs. Wind Speed Plot\n",
    "city_df.plot(kind='scatter', x='Lat', y='Wind Speed', facecolors='blue')\n",
    "plt.title('City Latitude vs. Wind Speed')\n",
    "plt.xlabel('Latitude')\n",
    "plt.ylabel('Wind Speed (mph)')\n",
    "plt.grid()\n",
    "plt.savefig(\"../output_data/City Latitude vs. Wind Speed.png\")\n",
    "        "
   ]
  },
  {
   "cell_type": "markdown",
   "metadata": {},
   "source": [
    "## Linear Regression"
   ]
  },
  {
   "cell_type": "code",
   "execution_count": 23,
   "metadata": {},
   "outputs": [],
   "source": [
    "#Create Linear Regression plots\n",
    "#Define northern and southern hemispheres\n",
    "northern_hemisphere=city_df.loc[pd.to_numeric(city_df[\"Lat\"]).astype(float) > 0, :]\n",
    "southern_hemisphere=city_df.loc[pd.to_numeric(city_df[\"Lat\"]).astype(float) < 0, :]"
   ]
  },
  {
   "cell_type": "markdown",
   "metadata": {},
   "source": [
    "####  Northern Hemisphere - Max Temp vs. Latitude Linear Regression"
   ]
  },
  {
   "cell_type": "code",
   "execution_count": 32,
   "metadata": {},
   "outputs": [
    {
     "name": "stdout",
     "output_type": "stream",
     "text": [
      "Regression line equation is: y =-0.56x + 310.48.\n",
      "The r-squared is: -0.8710527990808322\n",
      "The regression displays a negative correlation.\n",
      "In the Northern Hemisphere, this plot shows that the temperature decreases while the latitude increases.\n"
     ]
    },
    {
     "data": {
      "image/png": "[encoded data removed]",
      "text/plain": [
       "<Figure size 432x288 with 1 Axes>"
      ]
     },
     "metadata": {
      "needs_background": "light"
     },
     "output_type": "display_data"
    }
   ],
   "source": [
    "#Define Northern Hemisphere - Max Temp vs. Latitude Linear Reg\n",
    "x = pd.to_numeric(northern_hemisphere['Lat']).astype(float)\n",
    "y = pd.to_numeric(northern_hemisphere['Max Temp']).astype(float)\n",
    "(slope, intercept, rvalue, pvalue, stderr) = linregress(x, y)\n",
    "regress_values = x * slope + intercept\n",
    "line_eq = \"y =\" + str(round(slope,2)) + \"x + \" + str(round(intercept,2))\n",
    "print(f\"Regression line equation is: {line_eq}.\")\n",
    "plt.scatter(x,y)\n",
    "plt.plot(x,regress_values, \"r-\")\n",
    "plt.annotate(line_eq,(6,10),fontsize=12,color=\"red\")\n",
    "plt.xlabel('Latitude')\n",
    "plt.ylabel('Max Temperature')\n",
    "plt.title('Northern Hemisphere - Max Temp vs. Latitude Linear Regression')\n",
    "plt.savefig(\"../output_data/North Hemispehere Max Temp vs. Latitude Linear Regression.png\")\n",
    "print(f\"The r-squared is: {rvalue}\")\n",
    "print(\"The regression displays a negative correlation.\")\n",
    "print(\"In the Northern Hemisphere, this plot shows that the temperature decreases while the latitude increases.\")\n",
    "    "
   ]
  },
  {
   "cell_type": "markdown",
   "metadata": {},
   "source": [
    "####  Southern Hemisphere - Max Temp vs. Latitude Linear Regression"
   ]
  },
  {
   "cell_type": "code",
   "execution_count": 33,
   "metadata": {},
   "outputs": [
    {
     "name": "stdout",
     "output_type": "stream",
     "text": [
      "Regression line equation is: y =0.37x + 302.41.\n",
      "The r-squared is: 0.7772501800972152\n",
      "The regression displays a positive correlation.\n",
      "In the Southern Hemisphere, this plot shows that the temperature increases as getting closer to the equator.\n"
     ]
    },
    {
     "data": {
      "image/png": "[encoded data removed]",
      "text/plain": [
       "<Figure size 432x288 with 1 Axes>"
      ]
     },
     "metadata": {
      "needs_background": "light"
     },
     "output_type": "display_data"
    }
   ],
   "source": [
    "#Define Southern Hemisphere - Max Temp vs. Latitude Linear Reg\n",
    "x = pd.to_numeric(southern_hemisphere['Lat']).astype(float)\n",
    "y = pd.to_numeric(southern_hemisphere['Max Temp']).astype(float)\n",
    "(slope, intercept, rvalue, pvalue, stderr) = linregress(x, y)\n",
    "regress_values = x * slope + intercept\n",
    "line_eq = \"y =\" + str(round(slope,2)) + \"x + \" + str(round(intercept,2))\n",
    "print(f\"Regression line equation is: {line_eq}.\")\n",
    "plt.scatter(x,y)\n",
    "plt.plot(x,regress_values, \"r-\")\n",
    "plt.annotate(line_eq,(6,10),fontsize=12,color=\"red\")\n",
    "plt.xlabel('Latitude')\n",
    "plt.ylabel('Max Temperature')\n",
    "plt.title('Southern Hemisphere - Max Temp vs. Latitude Linear Regression')\n",
    "plt.savefig(\"../output_data/South Hemisphere Max Temp vs. Latitude Linear Regression.png\")\n",
    "print(f\"The r-squared is: {rvalue}\")\n",
    "print(\"The regression displays a positive correlation.\")\n",
    "print(\"In the Southern Hemisphere, this plot shows that the temperature increases as getting closer to the equator.\")\n",
    "    "
   ]
  },
  {
   "cell_type": "markdown",
   "metadata": {},
   "source": [
    "####  Northern Hemisphere - Humidity (%) vs. Latitude Linear Regression"
   ]
  },
  {
   "cell_type": "code",
   "execution_count": 34,
   "metadata": {},
   "outputs": [
    {
     "name": "stdout",
     "output_type": "stream",
     "text": [
      "Regression line equation is: y =0.32x + 50.89.\n",
      "The r-squared is: 0.24775570504402478\n",
      "The regression displays a positive correlation.\n",
      "In the Northern Hemisphere, this plot cannot determine humidity in relation to latitude.\n"
     ]
    },
    {
     "data": {
      "image/png": "[encoded data removed]",
      "text/plain": [
       "<Figure size 432x288 with 1 Axes>"
      ]
     },
     "metadata": {
      "needs_background": "light"
     },
     "output_type": "display_data"
    }
   ],
   "source": [
    "#Define Northern Hemisphere - Humidity vs. Latitude Linear Reg\n",
    "x = pd.to_numeric(northern_hemisphere['Lat']).astype(float)\n",
    "y = pd.to_numeric(northern_hemisphere['Humidity']).astype(float)\n",
    "(slope, intercept, rvalue, pvalue, stderr) = linregress(x, y)\n",
    "regress_values = x * slope + intercept\n",
    "line_eq = \"y =\" + str(round(slope,2)) + \"x + \" + str(round(intercept,2))\n",
    "print(f\"Regression line equation is: {line_eq}.\")\n",
    "plt.scatter(x,y)\n",
    "plt.plot(x,regress_values, \"r-\")\n",
    "plt.annotate(line_eq,(6,10),fontsize=12,color=\"red\")\n",
    "plt.xlabel('Latitude')\n",
    "plt.ylabel('Humidity (%)')\n",
    "plt.ylim(0,300)\n",
    "plt.title('Northern Hemisphere - Humidity vs. Latitude Linear Regression')\n",
    "plt.savefig(\"../output_data/North Hemisphere Humidity vs. Latitude Linear Regression.png\")\n",
    "print(f\"The r-squared is: {rvalue}\")\n",
    "print(\"The regression displays a positive correlation.\")\n",
    "print(\"In the Northern Hemisphere, this plot cannot determine humidity in relation to latitude.\")\n",
    "    "
   ]
  },
  {
   "cell_type": "markdown",
   "metadata": {},
   "source": [
    "####  Southern Hemisphere - Humidity (%) vs. Latitude Linear Regression"
   ]
  },
  {
   "cell_type": "code",
   "execution_count": 35,
   "metadata": {},
   "outputs": [
    {
     "name": "stdout",
     "output_type": "stream",
     "text": [
      "Regression line equation is: y =0.17x + 75.78.\n",
      "The r-squared is: 0.12136383043808839\n",
      "The regression displays a positive correlation.\n",
      "In the Southern Hemisphere, this plot shows that the latitude does not impact the humidity.\n"
     ]
    },
    {
     "data": {
      "image/png": "[encoded data removed]",
      "text/plain": [
       "<Figure size 432x288 with 1 Axes>"
      ]
     },
     "metadata": {
      "needs_background": "light"
     },
     "output_type": "display_data"
    }
   ],
   "source": [
    "#Define Southern Hemisphere - Humidity vs. Latitude Linear Reg\n",
    "x = pd.to_numeric(southern_hemisphere['Lat']).astype(float)\n",
    "y = pd.to_numeric(southern_hemisphere['Humidity']).astype(float)\n",
    "(slope, intercept, rvalue, pvalue, stderr) = linregress(x, y)\n",
    "regress_values = x * slope + intercept\n",
    "line_eq = \"y =\" + str(round(slope,2)) + \"x + \" + str(round(intercept,2))\n",
    "print(f\"Regression line equation is: {line_eq}.\")\n",
    "plt.scatter(x,y)\n",
    "plt.plot(x,regress_values, \"r-\")\n",
    "plt.annotate(line_eq,(6,10),fontsize=12,color=\"red\")\n",
    "plt.xlabel('Latitude')\n",
    "plt.ylabel('Humidity (%)')\n",
    "plt.ylim(0,300)\n",
    "plt.title('Southern Hemisphere - Humidity vs. Latitude Linear Regression')\n",
    "plt.savefig(\"../output_data/South Hemisphere Humidity vs. Latitude Linear Regression.png\")\n",
    "print(f\"The r-squared is: {rvalue}\")\n",
    "print(\"The regression displays a positive correlation.\")\n",
    "print(\"In the Southern Hemisphere, this plot shows that the latitude does not impact the humidity.\")\n",
    "    "
   ]
  },
  {
   "cell_type": "markdown",
   "metadata": {},
   "source": [
    "####  Northern Hemisphere - Cloudiness (%) vs. Latitude Linear Regression"
   ]
  },
  {
   "cell_type": "code",
   "execution_count": 36,
   "metadata": {},
   "outputs": [
    {
     "name": "stdout",
     "output_type": "stream",
     "text": [
      "Regression line equation is: y =0.37x + 37.7.\n",
      "The r-squared is: 0.18996008384129934\n",
      "The regression displays a positive correlation.\n",
      "In the Northern Hemisphere, this plot shows cloudiness slightly increases with an increase in in latitude.\n"
     ]
    },
    {
     "data": {
      "image/png": "[encoded data removed]",
      "text/plain": [
       "<Figure size 432x288 with 1 Axes>"
      ]
     },
     "metadata": {
      "needs_background": "light"
     },
     "output_type": "display_data"
    }
   ],
   "source": [
    "#Define Northern Hemisphere - Cloudiness vs. Latitude Linear Reg\n",
    "x = pd.to_numeric(northern_hemisphere['Lat']).astype(float)\n",
    "y = pd.to_numeric(northern_hemisphere['Cloudiness']).astype(float)\n",
    "(slope, intercept, rvalue, pvalue, stderr) = linregress(x, y)\n",
    "regress_values = x * slope + intercept\n",
    "line_eq = \"y =\" + str(round(slope,2)) + \"x + \" + str(round(intercept,2))\n",
    "print(f\"Regression line equation is: {line_eq}.\")\n",
    "plt.scatter(x,y)\n",
    "plt.plot(x,regress_values, \"r-\")\n",
    "plt.annotate(line_eq,(6,10),fontsize=12,color=\"red\")\n",
    "plt.xlabel('Latitude')\n",
    "plt.ylabel('Cloudiness (%)')\n",
    "plt.title('Northern Hemisphere - Cloudiness vs. Latitude Linear Regression')\n",
    "plt.savefig(\"../output_data/North Hemisphere Cloudiness vs. Latitude Linear Regression.png\")\n",
    "print(f\"The r-squared is: {rvalue}\")\n",
    "print(\"The regression displays a positive correlation.\")\n",
    "print(\"In the Northern Hemisphere, this plot shows cloudiness slightly increases with an increase in in latitude.\")\n",
    "    "
   ]
  },
  {
   "cell_type": "markdown",
   "metadata": {},
   "source": [
    "####  Southern Hemisphere - Cloudiness (%) vs. Latitude Linear Regression"
   ]
  },
  {
   "cell_type": "code",
   "execution_count": 38,
   "metadata": {},
   "outputs": [
    {
     "name": "stdout",
     "output_type": "stream",
     "text": [
      "Regression line equation is: y =0.49x + 60.87.\n",
      "The r-squared is: 0.17389480455379047\n",
      "The regression displays a positive correlation.\n",
      "In the Southern Hemisphere, this plot shows cloudiness increases as closer to equator.\n"
     ]
    },
    {
     "data": {
      "image/png": "[encoded data removed]",
      "text/plain": [
       "<Figure size 432x288 with 1 Axes>"
      ]
     },
     "metadata": {
      "needs_background": "light"
     },
     "output_type": "display_data"
    }
   ],
   "source": [
    "#Define Southern Hemisphere - Cloudiness vs. Latitude Linear Reg\n",
    "x = pd.to_numeric(southern_hemisphere['Lat']).astype(float)\n",
    "y = pd.to_numeric(southern_hemisphere['Cloudiness']).astype(float)\n",
    "(slope, intercept, rvalue, pvalue, stderr) = linregress(x, y)\n",
    "regress_values = x * slope + intercept\n",
    "line_eq = \"y =\" + str(round(slope,2)) + \"x + \" + str(round(intercept,2))\n",
    "print(f\"Regression line equation is: {line_eq}.\")\n",
    "plt.scatter(x,y)\n",
    "plt.plot(x,regress_values, \"r-\")\n",
    "plt.annotate(line_eq,(6,10),fontsize=12,color=\"red\")\n",
    "plt.xlabel('Latitude')\n",
    "plt.ylabel('Cloudiness (%)')\n",
    "plt.title('Southern Hemisphere - Cloudiness vs. Latitude Linear Regression')\n",
    "plt.savefig(\"../output_data/South Hemisphere Cloudiness vs. Latitude Linear Regression.png\")\n",
    "print(f\"The r-squared is: {rvalue}\")\n",
    "print(\"The regression displays a positive correlation.\")\n",
    "print(\"In the Southern Hemisphere, this plot shows cloudiness increases as closer to equator.\")\n",
    "    "
   ]
  },
  {
   "cell_type": "markdown",
   "metadata": {},
   "source": [
    "####  Northern Hemisphere - Wind Speed (mph) vs. Latitude Linear Regression"
   ]
  },
  {
   "cell_type": "code",
   "execution_count": 39,
   "metadata": {},
   "outputs": [
    {
     "name": "stdout",
     "output_type": "stream",
     "text": [
      "Regression line equation is: y =0.01x + 3.45.\n",
      "The r-squared is: 0.09295328381074791\n",
      "The regression displays a positive correlation.\n",
      "In the Northern Hemisphere, this plot shows wind speed stays relatively constant as latitude increases.\n"
     ]
    },
    {
     "data": {
      "image/png": "[encoded data removed]",
      "text/plain": [
       "<Figure size 432x288 with 1 Axes>"
      ]
     },
     "metadata": {
      "needs_background": "light"
     },
     "output_type": "display_data"
    }
   ],
   "source": [
    "#Define Northern Hemisphere - Wind Speed vs. Latitude Linear Reg\n",
    "x = pd.to_numeric(northern_hemisphere['Lat']).astype(float)\n",
    "y = pd.to_numeric(northern_hemisphere['Wind Speed']).astype(float)\n",
    "(slope, intercept, rvalue, pvalue, stderr) = linregress(x, y)\n",
    "regress_values = x * slope + intercept\n",
    "line_eq = \"y =\" + str(round(slope,2)) + \"x + \" + str(round(intercept,2))\n",
    "print(f\"Regression line equation is: {line_eq}.\")\n",
    "plt.scatter(x,y)\n",
    "plt.plot(x,regress_values, \"r-\")\n",
    "plt.annotate(line_eq,(6,10),fontsize=12,color=\"red\")\n",
    "plt.xlabel('Latitude')\n",
    "plt.ylabel('Wind Speed (mph)')\n",
    "plt.title('Northern Hemisphere - Wind Speed vs. Latitude Linear Regression')\n",
    "plt.savefig(\"../output_data/North Hemisphere Wind Speed vs. Latitude Linear Regression.png\")\n",
    "print(f\"The r-squared is: {rvalue}\")\n",
    "print(\"The regression displays a positive correlation.\")\n",
    "print(\"In the Northern Hemisphere, this plot shows wind speed stays relatively constant as latitude increases.\")\n",
    "    "
   ]
  },
  {
   "cell_type": "markdown",
   "metadata": {},
   "source": [
    "####  Southern Hemisphere - Wind Speed (mph) vs. Latitude Linear Regression"
   ]
  },
  {
   "cell_type": "code",
   "execution_count": 40,
   "metadata": {},
   "outputs": [
    {
     "name": "stdout",
     "output_type": "stream",
     "text": [
      "Regression line equation is: y =-0.02x + 3.11.\n",
      "The r-squared is: -0.10209507543659253\n",
      "The regression displays a negative correlation.\n",
      "In the Southern Hemisphere, this plot shows wind speed decreases as it approaches the equator.\n"
     ]
    },
    {
     "data": {
      "image/png": "[encoded data removed]",
      "text/plain": [
       "<Figure size 432x288 with 1 Axes>"
      ]
     },
     "metadata": {
      "needs_background": "light"
     },
     "output_type": "display_data"
    }
   ],
   "source": [
    "#Define Southern Hemisphere - Wind Speed vs. Latitude Linear Reg\n",
    "x = pd.to_numeric(southern_hemisphere['Lat']).astype(float)\n",
    "y = pd.to_numeric(southern_hemisphere['Wind Speed']).astype(float)\n",
    "(slope, intercept, rvalue, pvalue, stderr) = linregress(x, y)\n",
    "regress_values = x * slope + intercept\n",
    "line_eq = \"y =\" + str(round(slope,2)) + \"x + \" + str(round(intercept,2))\n",
    "print(f\"Regression line equation is: {line_eq}.\")\n",
    "plt.scatter(x,y)\n",
    "plt.plot(x,regress_values, \"r-\")\n",
    "plt.annotate(line_eq,(6,10),fontsize=12,color=\"red\")\n",
    "plt.xlabel('Latitude')\n",
    "plt.ylabel('Wind Speed (mph)')\n",
    "plt.title('Southern Hemisphere - Wind Speed vs. Latitude Linear Regression')\n",
    "plt.savefig(\"../output_data/South Hemisphere Wind Speed vs. Latitude Linear Regression.png\")\n",
    "print(f\"The r-squared is: {rvalue}\")\n",
    "print(\"The regression displays a negative correlation.\")\n",
    "print(\"In the Southern Hemisphere, this plot shows wind speed decreases as it approaches the equator.\")\n",
    "    "
   ]
  },
  {
   "cell_type": "code",
   "execution_count": null,
   "metadata": {},
   "outputs": [],
   "source": []
  }
 ],
 "metadata": {
  "anaconda-cloud": {},
  "kernel_info": {
   "name": "python3"
  },
  "kernelspec": {
   "display_name": "Python 3",
   "language": "python",
   "name": "python3"
  },
  "language_info": {
   "codemirror_mode": {
    "name": "ipython",
    "version": 3
   },
   "file_extension": ".py",
   "mimetype": "text/x-python",
   "name": "python",
   "nbconvert_exporter": "python",
   "pygments_lexer": "ipython3",
   "version": "3.8.5"
  },
  "latex_envs": {
   "LaTeX_envs_menu_present": true,
   "autoclose": false,
   "autocomplete": true,
   "bibliofile": "biblio.bib",
   "cite_by": "apalike",
   "current_citInitial": 1,
   "eqLabelWithNumbers": true,
   "eqNumInitial": 1,
   "hotkeys": {
    "equation": "Ctrl-E",
    "itemize": "Ctrl-I"
   },
   "labels_anchors": false,
   "latex_user_defs": false,
   "report_style_numbering": false,
   "user_envs_cfg": false
  },
  "nteract": {
   "version": "0.12.3"
  }
 },
 "nbformat": 4,
 "nbformat_minor": 4
}
