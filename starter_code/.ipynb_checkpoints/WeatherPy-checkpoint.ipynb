{
 "cells": [
  {
   "cell_type": "markdown",
   "metadata": {},
   "source": [
    "# WeatherPy\n",
    "----\n",
    "\n",
    "#### Note\n",
    "* Instructions have been included for each segment. You do not have to follow them exactly, but they are included to help you think through the steps."
   ]
  },
  {
   "cell_type": "code",
   "execution_count": 1,
   "metadata": {},
   "outputs": [
    {
     "name": "stdout",
     "output_type": "stream",
     "text": [
      "Requirement already satisfied: citipy in c:\\users\\glori\\anaconda3\\lib\\site-packages (0.0.5)\n",
      "Requirement already satisfied: kdtree>=0.12 in c:\\users\\glori\\anaconda3\\lib\\site-packages (from citipy) (0.16)\n"
     ]
    }
   ],
   "source": [
    "!pip install citipy"
   ]
  },
  {
   "cell_type": "code",
   "execution_count": 2,
   "metadata": {
    "scrolled": true
   },
   "outputs": [],
   "source": [
    "# Dependencies and Setup\n",
    "import matplotlib.pyplot as plt\n",
    "import pandas as pd\n",
    "import numpy as np\n",
    "import requests\n",
    "import time\n",
    "from scipy.stats import linregress\n",
    "from pprint import pprint\n",
    "\n",
    "# Import API key\n",
    "from api_keys import weather_api_key\n",
    "\n",
    "# Incorporated citipy to determine city based on latitude and longitude\n",
    "from citipy import citipy\n",
    "\n",
    "# Output File (CSV)\n",
    "output_data_file = \"output_data/cities.csv\"\n",
    "\n",
    "# Range of latitudes and longitudes\n",
    "lat_range = (-90, 90)\n",
    "lng_range = (-180, 180)"
   ]
  },
  {
   "cell_type": "markdown",
   "metadata": {},
   "source": [
    "## Generate Cities List"
   ]
  },
  {
   "cell_type": "code",
   "execution_count": 3,
   "metadata": {},
   "outputs": [
    {
     "data": {
      "text/plain": [
       "597"
      ]
     },
     "execution_count": 3,
     "metadata": {},
     "output_type": "execute_result"
    }
   ],
   "source": [
    "# List for holding lat_lngs and cities\n",
    "lat_lngs = []\n",
    "cities = []\n",
    "\n",
    "# Create a set of random lat and lng combinations\n",
    "lats = np.random.uniform(lat_range[0], lat_range[1], size=1500)\n",
    "lngs = np.random.uniform(lng_range[0], lng_range[1], size=1500)\n",
    "lat_lngs = zip(lats, lngs)\n",
    "\n",
    "# Identify nearest city for each lat, lng combination\n",
    "for lat_lng in lat_lngs:\n",
    "    city = citipy.nearest_city(lat_lng[0], lat_lng[1]).city_name\n",
    "    \n",
    "    # If the city is unique, then add it to a our cities list\n",
    "    if city not in cities:\n",
    "        cities.append(city)\n",
    "\n",
    "# Print the city count to confirm sufficient count\n",
    "len(cities)"
   ]
  },
  {
   "cell_type": "markdown",
   "metadata": {},
   "source": [
    "### Perform API Calls\n",
    "* Perform a weather check on each city using a series of successive API calls.\n",
    "* Include a print log of each city as it'sbeing processed (with the city number and city name).\n"
   ]
  },
  {
   "cell_type": "code",
   "execution_count": 4,
   "metadata": {
    "scrolled": true
   },
   "outputs": [
    {
     "name": "stdout",
     "output_type": "stream",
     "text": [
      "{'base': 'stations',\n",
      " 'clouds': {'all': 40},\n",
      " 'cod': 200,\n",
      " 'coord': {'lat': 51.5085, 'lon': -0.1257},\n",
      " 'dt': 1619779712,\n",
      " 'id': 2643743,\n",
      " 'main': {'feels_like': 283.29,\n",
      "          'humidity': 46,\n",
      "          'pressure': 1015,\n",
      "          'temp': 284.86,\n",
      "          'temp_max': 286.48,\n",
      "          'temp_min': 282.59},\n",
      " 'name': 'London',\n",
      " 'sys': {'country': 'GB',\n",
      "         'id': 1414,\n",
      "         'sunrise': 1619757233,\n",
      "         'sunset': 1619810479,\n",
      "         'type': 1},\n",
      " 'timezone': 3600,\n",
      " 'visibility': 10000,\n",
      " 'weather': [{'description': 'scattered clouds',\n",
      "              'icon': '03d',\n",
      "              'id': 802,\n",
      "              'main': 'Clouds'}],\n",
      " 'wind': {'deg': 0, 'speed': 2.57}}\n"
     ]
    }
   ],
   "source": [
    "url = \"http://api.openweathermap.org/data/2.5/weather?\"\n",
    "city = \"London\"\n",
    "\n",
    "# Build query URL\n",
    "query_url = url + \"appid=\" + weather_api_key + \"&q=\" + city\n",
    "\n",
    "weather_response = requests.get(query_url)\n",
    "weather_json = weather_response.json()\n",
    "\n",
    "# Get the temperature from the response\n",
    "# pprint(f\"The weather API responded with: {weather_json}.\")\n",
    "pprint(weather_json)\n"
   ]
  },
  {
   "cell_type": "code",
   "execution_count": 5,
   "metadata": {},
   "outputs": [
    {
     "data": {
      "text/plain": [
       "-0.1257"
      ]
     },
     "execution_count": 5,
     "metadata": {},
     "output_type": "execute_result"
    }
   ],
   "source": [
    "weather_json['coord']['lon']"
   ]
  },
  {
   "cell_type": "code",
   "execution_count": 6,
   "metadata": {},
   "outputs": [
    {
     "data": {
      "text/plain": [
       "51.5085"
      ]
     },
     "execution_count": 6,
     "metadata": {},
     "output_type": "execute_result"
    }
   ],
   "source": [
    "weather_json['coord']['lat']"
   ]
  },
  {
   "cell_type": "code",
   "execution_count": 7,
   "metadata": {},
   "outputs": [
    {
     "data": {
      "text/plain": [
       "2.57"
      ]
     },
     "execution_count": 7,
     "metadata": {},
     "output_type": "execute_result"
    }
   ],
   "source": [
    "weather_json['wind']['speed']"
   ]
  },
  {
   "cell_type": "code",
   "execution_count": 8,
   "metadata": {},
   "outputs": [
    {
     "data": {
      "text/plain": [
       "286.48"
      ]
     },
     "execution_count": 8,
     "metadata": {},
     "output_type": "execute_result"
    }
   ],
   "source": [
    "weather_json['main']['temp_max']"
   ]
  },
  {
   "cell_type": "code",
   "execution_count": 9,
   "metadata": {},
   "outputs": [
    {
     "data": {
      "text/plain": [
       "40"
      ]
     },
     "execution_count": 9,
     "metadata": {},
     "output_type": "execute_result"
    }
   ],
   "source": [
    "weather_json['clouds']['all']"
   ]
  },
  {
   "cell_type": "code",
   "execution_count": 10,
   "metadata": {},
   "outputs": [
    {
     "data": {
      "text/plain": [
       "46"
      ]
     },
     "execution_count": 10,
     "metadata": {},
     "output_type": "execute_result"
    }
   ],
   "source": [
    "weather_json['main']['humidity']"
   ]
  },
  {
   "cell_type": "code",
   "execution_count": 11,
   "metadata": {},
   "outputs": [
    {
     "data": {
      "text/plain": [
       "'GB'"
      ]
     },
     "execution_count": 11,
     "metadata": {},
     "output_type": "execute_result"
    }
   ],
   "source": [
    "weather_json['sys']['country']"
   ]
  },
  {
   "cell_type": "code",
   "execution_count": 12,
   "metadata": {},
   "outputs": [
    {
     "data": {
      "text/plain": [
       "1619779712"
      ]
     },
     "execution_count": 12,
     "metadata": {},
     "output_type": "execute_result"
    }
   ],
   "source": [
    "weather_json['dt']"
   ]
  },
  {
   "cell_type": "code",
   "execution_count": 13,
   "metadata": {},
   "outputs": [
    {
     "name": "stdout",
     "output_type": "stream",
     "text": [
      "yellowknife was successfully added to our records\n",
      "esperance was successfully added to our records\n",
      "punta arenas was successfully added to our records\n",
      "brovary was successfully added to our records\n",
      "makakilo city was successfully added to our records\n",
      "sorland was successfully added to our records\n",
      "talnakh was successfully added to our records\n",
      "sola was successfully added to our records\n",
      "floro was successfully added to our records\n",
      "We failed to add dzhusaly\n",
      "We failed to add amderma\n",
      "We failed to add taolanaro\n",
      "butaritari was successfully added to our records\n",
      "grand gaube was successfully added to our records\n",
      "klaksvik was successfully added to our records\n",
      "ust-tsilma was successfully added to our records\n",
      "saint-georges was successfully added to our records\n",
      "atuona was successfully added to our records\n",
      "rikitea was successfully added to our records\n",
      "touros was successfully added to our records\n",
      "tiksi was successfully added to our records\n",
      "new norfolk was successfully added to our records\n",
      "north platte was successfully added to our records\n",
      "east london was successfully added to our records\n",
      "coswig was successfully added to our records\n",
      "belmonte was successfully added to our records\n",
      "margate was successfully added to our records\n",
      "carutapera was successfully added to our records\n",
      "busselton was successfully added to our records\n",
      "bredasdorp was successfully added to our records\n",
      "igrim was successfully added to our records\n",
      "vaini was successfully added to our records\n",
      "raudeberg was successfully added to our records\n",
      "We failed to add nizhneyansk\n",
      "tiznit was successfully added to our records\n",
      "whitehorse was successfully added to our records\n",
      "tuktoyaktuk was successfully added to our records\n",
      "bathsheba was successfully added to our records\n",
      "guerrero negro was successfully added to our records\n",
      "san policarpo was successfully added to our records\n",
      "upernavik was successfully added to our records\n",
      "bluff was successfully added to our records\n",
      "We failed to add tumannyy\n",
      "nikolskoye was successfully added to our records\n",
      "torbay was successfully added to our records\n",
      "taut was successfully added to our records\n",
      "abomey was successfully added to our records\n",
      "jamestown was successfully added to our records\n",
      "port augusta was successfully added to our records\n",
      "tasiilaq was successfully added to our records\n",
      "hermanus was successfully added to our records\n",
      "mar del plata was successfully added to our records\n",
      "leshukonskoye was successfully added to our records\n",
      "itororo was successfully added to our records\n",
      "aksu was successfully added to our records\n",
      "urengoy was successfully added to our records\n",
      "yazman was successfully added to our records\n",
      "nouadhibou was successfully added to our records\n",
      "chokurdakh was successfully added to our records\n",
      "puga was successfully added to our records\n",
      "atar was successfully added to our records\n",
      "mataura was successfully added to our records\n",
      "fivizzano was successfully added to our records\n",
      "kapaa was successfully added to our records\n",
      "pisco was successfully added to our records\n",
      "ushuaia was successfully added to our records\n",
      "kaseda was successfully added to our records\n",
      "avarua was successfully added to our records\n",
      "puerto colombia was successfully added to our records\n",
      "kutum was successfully added to our records\n",
      "san quintin was successfully added to our records\n",
      "port elizabeth was successfully added to our records\n",
      "We failed to add rawannawi\n",
      "tuatapere was successfully added to our records\n",
      "ixtapa was successfully added to our records\n",
      "ler was successfully added to our records\n",
      "agirish was successfully added to our records\n",
      "vohibinany was successfully added to our records\n",
      "poum was successfully added to our records\n",
      "samarai was successfully added to our records\n",
      "palembang was successfully added to our records\n",
      "pineville was successfully added to our records\n",
      "siavonga was successfully added to our records\n",
      "biak was successfully added to our records\n",
      "college was successfully added to our records\n",
      "cherskiy was successfully added to our records\n",
      "albany was successfully added to our records\n",
      "clyde river was successfully added to our records\n",
      "vardo was successfully added to our records\n",
      "husavik was successfully added to our records\n",
      "iqaluit was successfully added to our records\n",
      "We failed to add viligili\n",
      "najran was successfully added to our records\n",
      "hamilton was successfully added to our records\n",
      "port lincoln was successfully added to our records\n",
      "We failed to add tsihombe\n",
      "nabire was successfully added to our records\n",
      "diffa was successfully added to our records\n",
      "nemuro was successfully added to our records\n",
      "We failed to add illoqqortoormiut\n",
      "carnarvon was successfully added to our records\n",
      "fortuna was successfully added to our records\n",
      "wollongong was successfully added to our records\n",
      "youhao was successfully added to our records\n",
      "necochea was successfully added to our records\n",
      "barrow was successfully added to our records\n",
      "hobart was successfully added to our records\n",
      "champaign was successfully added to our records\n",
      "guane was successfully added to our records\n",
      "padang was successfully added to our records\n",
      "ewa beach was successfully added to our records\n",
      "svetlaya was successfully added to our records\n",
      "adrar was successfully added to our records\n",
      "ponta do sol was successfully added to our records\n",
      "constitucion was successfully added to our records\n",
      "polyarnyy was successfully added to our records\n",
      "provideniya was successfully added to our records\n",
      "sept-iles was successfully added to our records\n",
      "cape town was successfully added to our records\n",
      "mayo was successfully added to our records\n",
      "paita was successfully added to our records\n",
      "saskylakh was successfully added to our records\n",
      "havoysund was successfully added to our records\n",
      "nivala was successfully added to our records\n",
      "huarmey was successfully added to our records\n",
      "san patricio was successfully added to our records\n",
      "uchaly was successfully added to our records\n",
      "bambous virieux was successfully added to our records\n",
      "victor harbor was successfully added to our records\n",
      "dikson was successfully added to our records\n",
      "marfino was successfully added to our records\n",
      "pasni was successfully added to our records\n",
      "ilulissat was successfully added to our records\n",
      "evensk was successfully added to our records\n",
      "tongliao was successfully added to our records\n",
      "port alfred was successfully added to our records\n",
      "bethel was successfully added to our records\n",
      "san cristobal was successfully added to our records\n",
      "camacha was successfully added to our records\n",
      "malakal was successfully added to our records\n",
      "banda aceh was successfully added to our records\n",
      "avera was successfully added to our records\n",
      "hilo was successfully added to our records\n",
      "antofagasta was successfully added to our records\n",
      "mahibadhoo was successfully added to our records\n",
      "We failed to add karkaralinsk\n",
      "arraial do cabo was successfully added to our records\n",
      "We failed to add tabiauea\n",
      "jalpan was successfully added to our records\n",
      "We failed to add dibaya\n",
      "sao joao da barra was successfully added to our records\n",
      "sao filipe was successfully added to our records\n",
      "dingle was successfully added to our records\n",
      "thompson was successfully added to our records\n",
      "bisho was successfully added to our records\n",
      "orotukan was successfully added to our records\n",
      "We failed to add zabinka\n",
      "fairbanks was successfully added to our records\n",
      "qaanaaq was successfully added to our records\n",
      "kavieng was successfully added to our records\n",
      "gat was successfully added to our records\n",
      "faanui was successfully added to our records\n",
      "aklavik was successfully added to our records\n",
      "los llanos de aridane was successfully added to our records\n",
      "bonfim was successfully added to our records\n",
      "kodiak was successfully added to our records\n",
      "We failed to add sentyabrskiy\n",
      "tabas was successfully added to our records\n",
      "coihaique was successfully added to our records\n",
      "bonthe was successfully added to our records\n",
      "cap-aux-meules was successfully added to our records\n",
      "kaitangata was successfully added to our records\n",
      "lagoa was successfully added to our records\n",
      "staunton was successfully added to our records\n",
      "We failed to add ijaki\n",
      "We failed to add belushya guba\n",
      "castrillon was successfully added to our records\n",
      "praia was successfully added to our records\n",
      "ribeira grande was successfully added to our records\n",
      "bennington was successfully added to our records\n",
      "kloulklubed was successfully added to our records\n",
      "mount gambier was successfully added to our records\n",
      "mandalgovi was successfully added to our records\n",
      "guaymas was successfully added to our records\n",
      "berkeley heights was successfully added to our records\n",
      "kahului was successfully added to our records\n",
      "namibe was successfully added to our records\n",
      "baykit was successfully added to our records\n",
      "matara was successfully added to our records\n",
      "smolenka was successfully added to our records\n",
      "laguna was successfully added to our records\n",
      "khatanga was successfully added to our records\n",
      "puerto ayora was successfully added to our records\n",
      "channel-port aux basques was successfully added to our records\n",
      "shelburne was successfully added to our records\n",
      "pa daet was successfully added to our records\n",
      "nefteyugansk was successfully added to our records\n",
      "severo-kurilsk was successfully added to our records\n",
      "jalu was successfully added to our records\n",
      "kruisfontein was successfully added to our records\n",
      "lorengau was successfully added to our records\n",
      "We failed to add samusu\n",
      "ancud was successfully added to our records\n",
      "tlacotepec was successfully added to our records\n",
      "troitsko-pechorsk was successfully added to our records\n",
      "marawi was successfully added to our records\n",
      "alofi was successfully added to our records\n",
      "aketi was successfully added to our records\n",
      "mgandu was successfully added to our records\n",
      "katherine was successfully added to our records\n",
      "te anau was successfully added to our records\n",
      "codrington was successfully added to our records\n",
      "We failed to add mys shmidta\n",
      "teacapan was successfully added to our records\n",
      "hovd was successfully added to our records\n",
      "nyagan was successfully added to our records\n",
      "shitanjing was successfully added to our records\n",
      "oktyabrskiy was successfully added to our records\n",
      "nikel was successfully added to our records\n",
      "sistranda was successfully added to our records\n",
      "arlit was successfully added to our records\n",
      "ust-maya was successfully added to our records\n",
      "kautokeino was successfully added to our records\n",
      "mahebourg was successfully added to our records\n",
      "kabinda was successfully added to our records\n",
      "airai was successfully added to our records\n",
      "We failed to add barentsburg\n",
      "uyuni was successfully added to our records\n",
      "georgetown was successfully added to our records\n",
      "kashi was successfully added to our records\n",
      "sur was successfully added to our records\n",
      "bassano del grappa was successfully added to our records\n",
      "hithadhoo was successfully added to our records\n",
      "zamboanguita was successfully added to our records\n",
      "zachepylivka was successfully added to our records\n",
      "sinazongwe was successfully added to our records\n",
      "zhangye was successfully added to our records\n",
      "boueni was successfully added to our records\n",
      "neiafu was successfully added to our records\n",
      "kodinsk was successfully added to our records\n",
      "saint george was successfully added to our records\n",
      "ashford was successfully added to our records\n",
      "panguna was successfully added to our records\n",
      "alnashi was successfully added to our records\n",
      "pevek was successfully added to our records\n",
      "ahipara was successfully added to our records\n",
      "longyearbyen was successfully added to our records\n",
      "billings was successfully added to our records\n",
      "cody was successfully added to our records\n",
      "kalmunai was successfully added to our records\n",
      "chuy was successfully added to our records\n",
      "leningradskiy was successfully added to our records\n",
      "marzuq was successfully added to our records\n",
      "bafata was successfully added to our records\n",
      "castro was successfully added to our records\n",
      "saint-philippe was successfully added to our records\n",
      "addis abeba was successfully added to our records\n",
      "walvis bay was successfully added to our records\n",
      "price was successfully added to our records\n",
      "puerto del rosario was successfully added to our records\n",
      "khorixas was successfully added to our records\n",
      "We failed to add umzimvubu\n",
      "pilot butte was successfully added to our records\n",
      "souillac was successfully added to our records\n",
      "kihei was successfully added to our records\n",
      "clarksburg was successfully added to our records\n",
      "thinadhoo was successfully added to our records\n",
      "iranshahr was successfully added to our records\n",
      "bahia honda was successfully added to our records\n",
      "nioro was successfully added to our records\n",
      "luderitz was successfully added to our records\n",
      "dzilam gonzalez was successfully added to our records\n",
      "saint-augustin was successfully added to our records\n",
      "winnemucca was successfully added to our records\n",
      "upington was successfully added to our records\n",
      "kailua was successfully added to our records\n",
      "nantucket was successfully added to our records\n",
      "karratha was successfully added to our records\n",
      "We failed to add tasbuget\n",
      "port hardy was successfully added to our records\n",
      "iglas was successfully added to our records\n",
      "We failed to add rungata\n",
      "vestmannaeyjar was successfully added to our records\n",
      "muroto was successfully added to our records\n",
      "sitka was successfully added to our records\n",
      "ayotzintepec was successfully added to our records\n",
      "We failed to add abu jubayhah\n",
      "mogadishu was successfully added to our records\n",
      "yangambi was successfully added to our records\n",
      "saint-francois was successfully added to our records\n",
      "asau was successfully added to our records\n",
      "bethanien was successfully added to our records\n",
      "uruzgan was successfully added to our records\n",
      "limon was successfully added to our records\n",
      "faya was successfully added to our records\n",
      "lasa was successfully added to our records\n",
      "buchanan was successfully added to our records\n",
      "paamiut was successfully added to our records\n",
      "getulio vargas was successfully added to our records\n",
      "rhymney was successfully added to our records\n",
      "lebu was successfully added to our records\n",
      "kintampo was successfully added to our records\n",
      "mondovi was successfully added to our records\n",
      "haines junction was successfully added to our records\n",
      "minab was successfully added to our records\n",
      "We failed to add saleaula\n",
      "smithers was successfully added to our records\n",
      "aquiraz was successfully added to our records\n",
      "tricase was successfully added to our records\n",
      "along was successfully added to our records\n",
      "borogontsy was successfully added to our records\n",
      "viedma was successfully added to our records\n",
      "sinnamary was successfully added to our records\n",
      "mongo was successfully added to our records\n",
      "launceston was successfully added to our records\n",
      "khandyga was successfully added to our records\n",
      "tateyama was successfully added to our records\n",
      "ken caryl was successfully added to our records\n",
      "yar-sale was successfully added to our records\n",
      "qasigiannguit was successfully added to our records\n",
      "xinzhi was successfully added to our records\n",
      "narsaq was successfully added to our records\n",
      "novo cruzeiro was successfully added to our records\n",
      "nanortalik was successfully added to our records\n",
      "cravo norte was successfully added to our records\n",
      "madera was successfully added to our records\n",
      "kaeo was successfully added to our records\n",
      "depalpur was successfully added to our records\n",
      "pumiao was successfully added to our records\n",
      "dori was successfully added to our records\n",
      "los alamos was successfully added to our records\n",
      "hami was successfully added to our records\n",
      "We failed to add bengkalis\n",
      "kokstad was successfully added to our records\n",
      "yining was successfully added to our records\n",
      "kokopo was successfully added to our records\n",
      "caravelas was successfully added to our records\n",
      "naze was successfully added to our records\n",
      "We failed to add vaitupu\n",
      "We failed to add mizpe ramon\n",
      "beyneu was successfully added to our records\n",
      "ostrovnoy was successfully added to our records\n",
      "kamaishi was successfully added to our records\n",
      "marienburg was successfully added to our records\n",
      "vanavara was successfully added to our records\n",
      "We failed to add buqayq\n",
      "agropoli was successfully added to our records\n",
      "wasilla was successfully added to our records\n",
      "aykhal was successfully added to our records\n",
      "yatou was successfully added to our records\n",
      "saldanha was successfully added to our records\n",
      "acarau was successfully added to our records\n",
      "kirakira was successfully added to our records\n",
      "springbok was successfully added to our records\n",
      "kuytun was successfully added to our records\n",
      "lucapa was successfully added to our records\n",
      "berlevag was successfully added to our records\n",
      "casimcea was successfully added to our records\n",
      "damietta was successfully added to our records\n",
      "maniitsoq was successfully added to our records\n",
      "porto novo was successfully added to our records\n",
      "meiganga was successfully added to our records\n",
      "We failed to add grand river south east\n",
      "wajima was successfully added to our records\n",
      "neuquen was successfully added to our records\n",
      "We failed to add bolungarvik\n",
      "swan hill was successfully added to our records\n",
      "kikwit was successfully added to our records\n",
      "kvam was successfully added to our records\n",
      "katsuura was successfully added to our records\n",
      "tevaitoa was successfully added to our records\n",
      "manali was successfully added to our records\n",
      "novopokrovka was successfully added to our records\n",
      "shenkursk was successfully added to our records\n",
      "pochutla was successfully added to our records\n",
      "verkhnyaya inta was successfully added to our records\n",
      "jiazi was successfully added to our records\n",
      "naryan-mar was successfully added to our records\n",
      "cidreira was successfully added to our records\n",
      "srednekolymsk was successfully added to our records\n",
      "salalah was successfully added to our records\n",
      "north bend was successfully added to our records\n",
      "invermere was successfully added to our records\n",
      "tari was successfully added to our records\n",
      "hasaki was successfully added to our records\n",
      "qui nhon was successfully added to our records\n",
      "We failed to add turtkul\n",
      "taltal was successfully added to our records\n",
      "kirovo-chepetsk was successfully added to our records\n",
      "muros was successfully added to our records\n",
      "savannakhet was successfully added to our records\n",
      "kralendijk was successfully added to our records\n",
      "ratnagiri was successfully added to our records\n",
      "nome was successfully added to our records\n",
      "axim was successfully added to our records\n",
      "fayetteville was successfully added to our records\n",
      "okhotsk was successfully added to our records\n",
      "kitob was successfully added to our records\n",
      "We failed to add karaul\n",
      "palera was successfully added to our records\n",
      "tautira was successfully added to our records\n",
      "atherton was successfully added to our records\n",
      "egvekinot was successfully added to our records\n",
      "alice springs was successfully added to our records\n",
      "huilong was successfully added to our records\n",
      "bethalto was successfully added to our records\n",
      "tra vinh was successfully added to our records\n",
      "labuhan was successfully added to our records\n",
      "montepuez was successfully added to our records\n",
      "chingirlau was successfully added to our records\n",
      "pitanga was successfully added to our records\n",
      "rio grande was successfully added to our records\n",
      "mogocha was successfully added to our records\n",
      "comodoro rivadavia was successfully added to our records\n",
      "wattegama was successfully added to our records\n",
      "fomeque was successfully added to our records\n",
      "lavrentiya was successfully added to our records\n",
      "canico was successfully added to our records\n",
      "black forest was successfully added to our records\n",
      "We failed to add tiruvottiyur\n",
      "buala was successfully added to our records\n",
      "mbour was successfully added to our records\n",
      "fernandopolis was successfully added to our records\n",
      "esmeraldas was successfully added to our records\n",
      "clocolan was successfully added to our records\n",
      "We failed to add attawapiskat\n",
      "yuli was successfully added to our records\n",
      "jiaonan was successfully added to our records\n",
      "shemonaikha was successfully added to our records\n",
      "We failed to add garm\n",
      "tarbagatay was successfully added to our records\n",
      "praia da vitoria was successfully added to our records\n",
      "sampit was successfully added to our records\n",
      "cururupu was successfully added to our records\n",
      "urumqi was successfully added to our records\n",
      "prince rupert was successfully added to our records\n",
      "missoula was successfully added to our records\n",
      "hay river was successfully added to our records\n",
      "We failed to add barbar\n",
      "poronaysk was successfully added to our records\n",
      "zalesovo was successfully added to our records\n",
      "geraldton was successfully added to our records\n",
      "pombas was successfully added to our records\n",
      "canada was successfully added to our records\n",
      "kurilsk was successfully added to our records\n",
      "tomatlan was successfully added to our records\n",
      "eyl was successfully added to our records\n",
      "itoman was successfully added to our records\n",
      "ouadda was successfully added to our records\n",
      "shingu was successfully added to our records\n",
      "quilali was successfully added to our records\n",
      "henties bay was successfully added to our records\n",
      "ossora was successfully added to our records\n",
      "rock sound was successfully added to our records\n",
      "omsukchan was successfully added to our records\n",
      "whitianga was successfully added to our records\n",
      "taoudenni was successfully added to our records\n",
      "zonguldak was successfully added to our records\n",
      "wau was successfully added to our records\n",
      "honningsvag was successfully added to our records\n",
      "esmeralda was successfully added to our records\n",
      "bhag was successfully added to our records\n",
      "goderich was successfully added to our records\n",
      "asind was successfully added to our records\n",
      "filadelfia was successfully added to our records\n",
      "We failed to add tingrela\n",
      "ayagoz was successfully added to our records\n",
      "kenai was successfully added to our records\n",
      "pyshchug was successfully added to our records\n",
      "We failed to add utiroa\n",
      "northam was successfully added to our records\n",
      "kawalu was successfully added to our records\n",
      "santa cruz was successfully added to our records\n",
      "cabo san lucas was successfully added to our records\n",
      "We failed to add samalaeulu\n",
      "acajutla was successfully added to our records\n",
      "camacari was successfully added to our records\n",
      "keskin was successfully added to our records\n",
      "rundu was successfully added to our records\n",
      "bubaque was successfully added to our records\n",
      "requena was successfully added to our records\n",
      "amahai was successfully added to our records\n",
      "mocuba was successfully added to our records\n",
      "monrovia was successfully added to our records\n",
      "strelka was successfully added to our records\n",
      "petropavlovka was successfully added to our records\n",
      "kem was successfully added to our records\n",
      "We failed to add malwan\n",
      "victoria was successfully added to our records\n",
      "mizdah was successfully added to our records\n",
      "We failed to add bargal\n",
      "sarakhs was successfully added to our records\n",
      "kendari was successfully added to our records\n",
      "mossendjo was successfully added to our records\n",
      "udachnyy was successfully added to our records\n",
      "kapit was successfully added to our records\n",
      "hambantota was successfully added to our records\n",
      "sisimiut was successfully added to our records\n",
      "chapais was successfully added to our records\n",
      "shintomi was successfully added to our records\n",
      "lixourion was successfully added to our records\n",
      "perth was successfully added to our records\n",
      "japura was successfully added to our records\n",
      "meulaboh was successfully added to our records\n",
      "the valley was successfully added to our records\n",
      "rocha was successfully added to our records\n",
      "krasnorechenskiy was successfully added to our records\n",
      "avon park was successfully added to our records\n",
      "brae was successfully added to our records\n",
      "kyren was successfully added to our records\n",
      "deputatskiy was successfully added to our records\n",
      "luba was successfully added to our records\n",
      "sinop was successfully added to our records\n",
      "tucuman was successfully added to our records\n",
      "itaituba was successfully added to our records\n",
      "mount isa was successfully added to our records\n",
      "pombia was successfully added to our records\n",
      "half moon bay was successfully added to our records\n",
      "isla mujeres was successfully added to our records\n",
      "roald was successfully added to our records\n",
      "waingapu was successfully added to our records\n",
      "tura was successfully added to our records\n",
      "yeppoon was successfully added to our records\n",
      "dawlatabad was successfully added to our records\n",
      "aurdal was successfully added to our records\n",
      "sikasso was successfully added to our records\n",
      "pangai was successfully added to our records\n",
      "raton was successfully added to our records\n",
      "fort myers beach was successfully added to our records\n",
      "maldonado was successfully added to our records\n",
      "koupela was successfully added to our records\n",
      "ghanzi was successfully added to our records\n",
      "arkhipo-osipovka was successfully added to our records\n",
      "gidole was successfully added to our records\n",
      "We failed to add gorkovskoye\n",
      "darhan was successfully added to our records\n",
      "hatillo was successfully added to our records\n",
      "zhangjiakou was successfully added to our records\n",
      "lodja was successfully added to our records\n",
      "boliqueime was successfully added to our records\n",
      "bilibino was successfully added to our records\n",
      "bengkulu was successfully added to our records\n",
      "kudahuvadhoo was successfully added to our records\n",
      "mangai was successfully added to our records\n",
      "newport was successfully added to our records\n",
      "iquique was successfully added to our records\n",
      "hobyo was successfully added to our records\n",
      "We failed to add lar gerd\n",
      "We failed to add we\n",
      "dangriga was successfully added to our records\n",
      "aurora was successfully added to our records\n",
      "charagua was successfully added to our records\n",
      "nguru was successfully added to our records\n",
      "chernyshevskiy was successfully added to our records\n",
      "mitchell was successfully added to our records\n",
      "hegang was successfully added to our records\n",
      "marystown was successfully added to our records\n",
      "nhulunbuy was successfully added to our records\n",
      "cayenne was successfully added to our records\n",
      "druzhba was successfully added to our records\n",
      "ramona was successfully added to our records\n",
      "lac-au-saumon was successfully added to our records\n",
      "bayir was successfully added to our records\n",
      "betare oya was successfully added to our records\n",
      "cumberland was successfully added to our records\n",
      "lardos was successfully added to our records\n",
      "williams lake was successfully added to our records\n",
      "We failed to add mocambique\n",
      "alugan was successfully added to our records\n",
      "koumac was successfully added to our records\n",
      "robertsport was successfully added to our records\n",
      "tamale was successfully added to our records\n",
      "yerbogachen was successfully added to our records\n",
      "adilabad was successfully added to our records\n",
      "ternate was successfully added to our records\n",
      "paulista was successfully added to our records\n",
      "sakakah was successfully added to our records\n",
      "jibuti was successfully added to our records\n",
      "imuris was successfully added to our records\n",
      "wick was successfully added to our records\n",
      "vila velha was successfully added to our records\n",
      "manoel urbano was successfully added to our records\n",
      "We failed to add maloshuyka\n",
      "jacareacanga was successfully added to our records\n",
      "lata was successfully added to our records\n",
      "paredon was successfully added to our records\n",
      "conakry was successfully added to our records\n",
      "hualmay was successfully added to our records\n",
      "fayaoue was successfully added to our records\n",
      "flinders was successfully added to our records\n",
      "mehamn was successfully added to our records\n",
      "We failed to add bur gabo\n",
      "solnechnyy was successfully added to our records\n",
      "minna was successfully added to our records\n",
      "surovikino was successfully added to our records\n",
      "kavaratti was successfully added to our records\n",
      "manokwari was successfully added to our records\n"
     ]
    }
   ],
   "source": [
    "url = \"http://api.openweathermap.org/data/2.5/weather?\"\n",
    "#list to hold the column for future dataframe\n",
    "lats=[]\n",
    "lngs=[]\n",
    "wind_speeds=[]\n",
    "max_temps=[]\n",
    "cloudiness=[]\n",
    "humidity=[]\n",
    "countries=[]\n",
    "dates=[]\n",
    "city_names=[]\n",
    "\n",
    "#Create for loops\n",
    "for city in cities:\n",
    "    \n",
    "    try:\n",
    "        \n",
    "        # Build query URL\n",
    "        query_url = url + \"appid=\" + weather_api_key + \"&q=\" + city\n",
    "\n",
    "        weather_response = requests.get(query_url)\n",
    "        weather_json = weather_response.json()\n",
    "\n",
    "        # Get the temperature from the response\n",
    "        # pprint(f\"The weather API responded with: {weather_json}.\")\n",
    "        # pprint(weather_json)\n",
    "        lngs.append(weather_json['coord']['lon'])\n",
    "        lats.append(weather_json['coord']['lat'])\n",
    "        wind_speeds.append(weather_json['wind']['speed'])\n",
    "        max_temps.append(weather_json['main']['temp_max'])\n",
    "        cloudiness.append(weather_json['clouds']['all'])\n",
    "        humidity.append(weather_json['main']['humidity'])\n",
    "        countries.append(weather_json['sys']['country'])\n",
    "        dates.append(weather_json['dt'])\n",
    "        city_names.append(city)\n",
    "        print(f\"{city} was successfully added to our records\")\n",
    "    except:\n",
    "        print(f\"We failed to add {city}\")"
   ]
  },
  {
   "cell_type": "markdown",
   "metadata": {},
   "source": [
    "### Convert Raw Data to DataFrame\n",
    "* Export the city data into a .csv.\n",
    "* Display the DataFrame"
   ]
  },
  {
   "cell_type": "code",
   "execution_count": 14,
   "metadata": {},
   "outputs": [
    {
     "data": {
      "text/html": [
       "<div>\n",
       "<style scoped>\n",
       "    .dataframe tbody tr th:only-of-type {\n",
       "        vertical-align: middle;\n",
       "    }\n",
       "\n",
       "    .dataframe tbody tr th {\n",
       "        vertical-align: top;\n",
       "    }\n",
       "\n",
       "    .dataframe thead th {\n",
       "        text-align: right;\n",
       "    }\n",
       "</style>\n",
       "<table border=\"1\" class=\"dataframe\">\n",
       "  <thead>\n",
       "    <tr style=\"text-align: right;\">\n",
       "      <th></th>\n",
       "      <th>City</th>\n",
       "      <th>Lat</th>\n",
       "      <th>Lng</th>\n",
       "      <th>Max Temp</th>\n",
       "      <th>Humidity</th>\n",
       "      <th>Cloudiness</th>\n",
       "      <th>Wind Speed</th>\n",
       "      <th>Country</th>\n",
       "      <th>Date</th>\n",
       "    </tr>\n",
       "  </thead>\n",
       "  <tbody>\n",
       "    <tr>\n",
       "      <th>0</th>\n",
       "      <td>yellowknife</td>\n",
       "      <td>62.4560</td>\n",
       "      <td>-114.3525</td>\n",
       "      <td>272.15</td>\n",
       "      <td>64</td>\n",
       "      <td>75</td>\n",
       "      <td>5.14</td>\n",
       "      <td>CA</td>\n",
       "      <td>1619780343</td>\n",
       "    </tr>\n",
       "    <tr>\n",
       "      <th>1</th>\n",
       "      <td>esperance</td>\n",
       "      <td>-33.8667</td>\n",
       "      <td>121.9000</td>\n",
       "      <td>285.15</td>\n",
       "      <td>94</td>\n",
       "      <td>40</td>\n",
       "      <td>2.57</td>\n",
       "      <td>AU</td>\n",
       "      <td>1619780358</td>\n",
       "    </tr>\n",
       "    <tr>\n",
       "      <th>2</th>\n",
       "      <td>punta arenas</td>\n",
       "      <td>-53.1500</td>\n",
       "      <td>-70.9167</td>\n",
       "      <td>277.15</td>\n",
       "      <td>100</td>\n",
       "      <td>90</td>\n",
       "      <td>5.14</td>\n",
       "      <td>CL</td>\n",
       "      <td>1619780358</td>\n",
       "    </tr>\n",
       "    <tr>\n",
       "      <th>3</th>\n",
       "      <td>brovary</td>\n",
       "      <td>50.5000</td>\n",
       "      <td>30.7667</td>\n",
       "      <td>294.26</td>\n",
       "      <td>45</td>\n",
       "      <td>0</td>\n",
       "      <td>8.00</td>\n",
       "      <td>UA</td>\n",
       "      <td>1619780359</td>\n",
       "    </tr>\n",
       "    <tr>\n",
       "      <th>4</th>\n",
       "      <td>makakilo city</td>\n",
       "      <td>21.3469</td>\n",
       "      <td>-158.0858</td>\n",
       "      <td>296.15</td>\n",
       "      <td>68</td>\n",
       "      <td>1</td>\n",
       "      <td>2.57</td>\n",
       "      <td>US</td>\n",
       "      <td>1619780359</td>\n",
       "    </tr>\n",
       "    <tr>\n",
       "      <th>...</th>\n",
       "      <td>...</td>\n",
       "      <td>...</td>\n",
       "      <td>...</td>\n",
       "      <td>...</td>\n",
       "      <td>...</td>\n",
       "      <td>...</td>\n",
       "      <td>...</td>\n",
       "      <td>...</td>\n",
       "      <td>...</td>\n",
       "    </tr>\n",
       "    <tr>\n",
       "      <th>545</th>\n",
       "      <td>solnechnyy</td>\n",
       "      <td>50.7214</td>\n",
       "      <td>136.6319</td>\n",
       "      <td>274.31</td>\n",
       "      <td>86</td>\n",
       "      <td>90</td>\n",
       "      <td>2.77</td>\n",
       "      <td>RU</td>\n",
       "      <td>1619780524</td>\n",
       "    </tr>\n",
       "    <tr>\n",
       "      <th>546</th>\n",
       "      <td>minna</td>\n",
       "      <td>9.6139</td>\n",
       "      <td>6.5569</td>\n",
       "      <td>306.15</td>\n",
       "      <td>49</td>\n",
       "      <td>20</td>\n",
       "      <td>4.63</td>\n",
       "      <td>NG</td>\n",
       "      <td>1619780239</td>\n",
       "    </tr>\n",
       "    <tr>\n",
       "      <th>547</th>\n",
       "      <td>surovikino</td>\n",
       "      <td>48.6078</td>\n",
       "      <td>42.8486</td>\n",
       "      <td>284.98</td>\n",
       "      <td>85</td>\n",
       "      <td>100</td>\n",
       "      <td>3.79</td>\n",
       "      <td>RU</td>\n",
       "      <td>1619780231</td>\n",
       "    </tr>\n",
       "    <tr>\n",
       "      <th>548</th>\n",
       "      <td>kavaratti</td>\n",
       "      <td>10.5669</td>\n",
       "      <td>72.6420</td>\n",
       "      <td>303.02</td>\n",
       "      <td>72</td>\n",
       "      <td>10</td>\n",
       "      <td>3.15</td>\n",
       "      <td>IN</td>\n",
       "      <td>1619780524</td>\n",
       "    </tr>\n",
       "    <tr>\n",
       "      <th>549</th>\n",
       "      <td>manokwari</td>\n",
       "      <td>-0.8667</td>\n",
       "      <td>134.0833</td>\n",
       "      <td>300.13</td>\n",
       "      <td>77</td>\n",
       "      <td>100</td>\n",
       "      <td>2.93</td>\n",
       "      <td>ID</td>\n",
       "      <td>1619780524</td>\n",
       "    </tr>\n",
       "  </tbody>\n",
       "</table>\n",
       "<p>550 rows × 9 columns</p>\n",
       "</div>"
      ],
      "text/plain": [
       "              City      Lat       Lng  Max Temp  Humidity  Cloudiness  \\\n",
       "0      yellowknife  62.4560 -114.3525    272.15        64          75   \n",
       "1        esperance -33.8667  121.9000    285.15        94          40   \n",
       "2     punta arenas -53.1500  -70.9167    277.15       100          90   \n",
       "3          brovary  50.5000   30.7667    294.26        45           0   \n",
       "4    makakilo city  21.3469 -158.0858    296.15        68           1   \n",
       "..             ...      ...       ...       ...       ...         ...   \n",
       "545     solnechnyy  50.7214  136.6319    274.31        86          90   \n",
       "546          minna   9.6139    6.5569    306.15        49          20   \n",
       "547     surovikino  48.6078   42.8486    284.98        85         100   \n",
       "548      kavaratti  10.5669   72.6420    303.02        72          10   \n",
       "549      manokwari  -0.8667  134.0833    300.13        77         100   \n",
       "\n",
       "     Wind Speed Country        Date  \n",
       "0          5.14      CA  1619780343  \n",
       "1          2.57      AU  1619780358  \n",
       "2          5.14      CL  1619780358  \n",
       "3          8.00      UA  1619780359  \n",
       "4          2.57      US  1619780359  \n",
       "..          ...     ...         ...  \n",
       "545        2.77      RU  1619780524  \n",
       "546        4.63      NG  1619780239  \n",
       "547        3.79      RU  1619780231  \n",
       "548        3.15      IN  1619780524  \n",
       "549        2.93      ID  1619780524  \n",
       "\n",
       "[550 rows x 9 columns]"
      ]
     },
     "execution_count": 14,
     "metadata": {},
     "output_type": "execute_result"
    }
   ],
   "source": [
    "#Create DataFrame\n",
    "city_df=pd.DataFrame({\n",
    "    \"City\":city_names,\n",
    "    \"Lat\":lats,\n",
    "    \"Lng\":lngs,\n",
    "    \"Max Temp\":max_temps,\n",
    "    \"Humidity\":humidity,\n",
    "    \"Cloudiness\":cloudiness,\n",
    "    \"Wind Speed\":wind_speeds,\n",
    "    \"Country\":countries,\n",
    "    \"Date\":dates    \n",
    "})\n",
    "city_df"
   ]
  },
  {
   "cell_type": "code",
   "execution_count": 15,
   "metadata": {},
   "outputs": [
    {
     "data": {
      "text/html": [
       "<div>\n",
       "<style scoped>\n",
       "    .dataframe tbody tr th:only-of-type {\n",
       "        vertical-align: middle;\n",
       "    }\n",
       "\n",
       "    .dataframe tbody tr th {\n",
       "        vertical-align: top;\n",
       "    }\n",
       "\n",
       "    .dataframe thead th {\n",
       "        text-align: right;\n",
       "    }\n",
       "</style>\n",
       "<table border=\"1\" class=\"dataframe\">\n",
       "  <thead>\n",
       "    <tr style=\"text-align: right;\">\n",
       "      <th></th>\n",
       "      <th>Lat</th>\n",
       "      <th>Lng</th>\n",
       "      <th>Max Temp</th>\n",
       "      <th>Humidity</th>\n",
       "      <th>Cloudiness</th>\n",
       "      <th>Wind Speed</th>\n",
       "      <th>Date</th>\n",
       "    </tr>\n",
       "  </thead>\n",
       "  <tbody>\n",
       "    <tr>\n",
       "      <th>count</th>\n",
       "      <td>550.000000</td>\n",
       "      <td>550.000000</td>\n",
       "      <td>550.000000</td>\n",
       "      <td>550.000000</td>\n",
       "      <td>550.000000</td>\n",
       "      <td>550.000000</td>\n",
       "      <td>5.500000e+02</td>\n",
       "    </tr>\n",
       "    <tr>\n",
       "      <th>mean</th>\n",
       "      <td>21.323856</td>\n",
       "      <td>13.830341</td>\n",
       "      <td>290.447436</td>\n",
       "      <td>66.816364</td>\n",
       "      <td>55.614545</td>\n",
       "      <td>3.521218</td>\n",
       "      <td>1.619780e+09</td>\n",
       "    </tr>\n",
       "    <tr>\n",
       "      <th>std</th>\n",
       "      <td>32.883570</td>\n",
       "      <td>90.927482</td>\n",
       "      <td>11.419994</td>\n",
       "      <td>23.898939</td>\n",
       "      <td>37.887916</td>\n",
       "      <td>2.196298</td>\n",
       "      <td>7.255358e+01</td>\n",
       "    </tr>\n",
       "    <tr>\n",
       "      <th>min</th>\n",
       "      <td>-54.800000</td>\n",
       "      <td>-179.166700</td>\n",
       "      <td>257.140000</td>\n",
       "      <td>4.000000</td>\n",
       "      <td>0.000000</td>\n",
       "      <td>0.170000</td>\n",
       "      <td>1.619780e+09</td>\n",
       "    </tr>\n",
       "    <tr>\n",
       "      <th>25%</th>\n",
       "      <td>-3.721125</td>\n",
       "      <td>-63.204200</td>\n",
       "      <td>282.067500</td>\n",
       "      <td>52.000000</td>\n",
       "      <td>20.000000</td>\n",
       "      <td>1.930000</td>\n",
       "      <td>1.619780e+09</td>\n",
       "    </tr>\n",
       "    <tr>\n",
       "      <th>50%</th>\n",
       "      <td>22.897250</td>\n",
       "      <td>18.558100</td>\n",
       "      <td>292.150000</td>\n",
       "      <td>72.500000</td>\n",
       "      <td>68.500000</td>\n",
       "      <td>3.090000</td>\n",
       "      <td>1.619780e+09</td>\n",
       "    </tr>\n",
       "    <tr>\n",
       "      <th>75%</th>\n",
       "      <td>47.997050</td>\n",
       "      <td>93.346100</td>\n",
       "      <td>299.150000</td>\n",
       "      <td>86.000000</td>\n",
       "      <td>91.000000</td>\n",
       "      <td>4.630000</td>\n",
       "      <td>1.619780e+09</td>\n",
       "    </tr>\n",
       "    <tr>\n",
       "      <th>max</th>\n",
       "      <td>78.218600</td>\n",
       "      <td>178.416700</td>\n",
       "      <td>315.400000</td>\n",
       "      <td>100.000000</td>\n",
       "      <td>100.000000</td>\n",
       "      <td>14.100000</td>\n",
       "      <td>1.619781e+09</td>\n",
       "    </tr>\n",
       "  </tbody>\n",
       "</table>\n",
       "</div>"
      ],
      "text/plain": [
       "              Lat         Lng    Max Temp    Humidity  Cloudiness  Wind Speed  \\\n",
       "count  550.000000  550.000000  550.000000  550.000000  550.000000  550.000000   \n",
       "mean    21.323856   13.830341  290.447436   66.816364   55.614545    3.521218   \n",
       "std     32.883570   90.927482   11.419994   23.898939   37.887916    2.196298   \n",
       "min    -54.800000 -179.166700  257.140000    4.000000    0.000000    0.170000   \n",
       "25%     -3.721125  -63.204200  282.067500   52.000000   20.000000    1.930000   \n",
       "50%     22.897250   18.558100  292.150000   72.500000   68.500000    3.090000   \n",
       "75%     47.997050   93.346100  299.150000   86.000000   91.000000    4.630000   \n",
       "max     78.218600  178.416700  315.400000  100.000000  100.000000   14.100000   \n",
       "\n",
       "               Date  \n",
       "count  5.500000e+02  \n",
       "mean   1.619780e+09  \n",
       "std    7.255358e+01  \n",
       "min    1.619780e+09  \n",
       "25%    1.619780e+09  \n",
       "50%    1.619780e+09  \n",
       "75%    1.619780e+09  \n",
       "max    1.619781e+09  "
      ]
     },
     "execution_count": 15,
     "metadata": {},
     "output_type": "execute_result"
    }
   ],
   "source": [
    "city_df.describe()"
   ]
  },
  {
   "cell_type": "markdown",
   "metadata": {},
   "source": [
    "## Inspect the data and remove the cities where the humidity > 100%.\n",
    "----\n",
    "Skip this step if there are no cities that have humidity > 100%. "
   ]
  },
  {
   "cell_type": "code",
   "execution_count": 16,
   "metadata": {},
   "outputs": [
    {
     "data": {
      "text/html": [
       "<div>\n",
       "<style scoped>\n",
       "    .dataframe tbody tr th:only-of-type {\n",
       "        vertical-align: middle;\n",
       "    }\n",
       "\n",
       "    .dataframe tbody tr th {\n",
       "        vertical-align: top;\n",
       "    }\n",
       "\n",
       "    .dataframe thead th {\n",
       "        text-align: right;\n",
       "    }\n",
       "</style>\n",
       "<table border=\"1\" class=\"dataframe\">\n",
       "  <thead>\n",
       "    <tr style=\"text-align: right;\">\n",
       "      <th></th>\n",
       "      <th>City</th>\n",
       "      <th>Lat</th>\n",
       "      <th>Lng</th>\n",
       "      <th>Max Temp</th>\n",
       "      <th>Humidity</th>\n",
       "      <th>Cloudiness</th>\n",
       "      <th>Wind Speed</th>\n",
       "      <th>Country</th>\n",
       "      <th>Date</th>\n",
       "    </tr>\n",
       "  </thead>\n",
       "  <tbody>\n",
       "  </tbody>\n",
       "</table>\n",
       "</div>"
      ],
      "text/plain": [
       "Empty DataFrame\n",
       "Columns: [City, Lat, Lng, Max Temp, Humidity, Cloudiness, Wind Speed, Country, Date]\n",
       "Index: []"
      ]
     },
     "execution_count": 16,
     "metadata": {},
     "output_type": "execute_result"
    }
   ],
   "source": [
    "#Dataframe to show cities wth humidity greater than 100\n",
    "city_df[city_df[\"Humidity\"]>100] #Verified that there are no cities with humidity greater than 100"
   ]
  },
  {
   "cell_type": "code",
   "execution_count": 17,
   "metadata": {},
   "outputs": [],
   "source": [
    "city_df.to_csv(\"City_Weather.csv\")\n"
   ]
  },
  {
   "cell_type": "markdown",
   "metadata": {},
   "source": [
    "## Plotting the Data\n",
    "* Use proper labeling of the plots using plot titles (including date of analysis) and axes labels.\n",
    "* Save the plotted figures as .pngs."
   ]
  },
  {
   "cell_type": "markdown",
   "metadata": {},
   "source": [
    "## Latitude vs. Temperature Plot"
   ]
  },
  {
   "cell_type": "code",
   "execution_count": 18,
   "metadata": {},
   "outputs": [
    {
     "data": {
      "text/html": [
       "<div>\n",
       "<style scoped>\n",
       "    .dataframe tbody tr th:only-of-type {\n",
       "        vertical-align: middle;\n",
       "    }\n",
       "\n",
       "    .dataframe tbody tr th {\n",
       "        vertical-align: top;\n",
       "    }\n",
       "\n",
       "    .dataframe thead th {\n",
       "        text-align: right;\n",
       "    }\n",
       "</style>\n",
       "<table border=\"1\" class=\"dataframe\">\n",
       "  <thead>\n",
       "    <tr style=\"text-align: right;\">\n",
       "      <th></th>\n",
       "      <th>City</th>\n",
       "      <th>Lat</th>\n",
       "      <th>Lng</th>\n",
       "      <th>Max Temp</th>\n",
       "      <th>Humidity</th>\n",
       "      <th>Cloudiness</th>\n",
       "      <th>Wind Speed</th>\n",
       "      <th>Country</th>\n",
       "      <th>Date</th>\n",
       "    </tr>\n",
       "  </thead>\n",
       "  <tbody>\n",
       "    <tr>\n",
       "      <th>0</th>\n",
       "      <td>yellowknife</td>\n",
       "      <td>62.4560</td>\n",
       "      <td>-114.3525</td>\n",
       "      <td>272.15</td>\n",
       "      <td>64</td>\n",
       "      <td>75</td>\n",
       "      <td>5.14</td>\n",
       "      <td>CA</td>\n",
       "      <td>1619780343</td>\n",
       "    </tr>\n",
       "    <tr>\n",
       "      <th>1</th>\n",
       "      <td>esperance</td>\n",
       "      <td>-33.8667</td>\n",
       "      <td>121.9000</td>\n",
       "      <td>285.15</td>\n",
       "      <td>94</td>\n",
       "      <td>40</td>\n",
       "      <td>2.57</td>\n",
       "      <td>AU</td>\n",
       "      <td>1619780358</td>\n",
       "    </tr>\n",
       "    <tr>\n",
       "      <th>2</th>\n",
       "      <td>punta arenas</td>\n",
       "      <td>-53.1500</td>\n",
       "      <td>-70.9167</td>\n",
       "      <td>277.15</td>\n",
       "      <td>100</td>\n",
       "      <td>90</td>\n",
       "      <td>5.14</td>\n",
       "      <td>CL</td>\n",
       "      <td>1619780358</td>\n",
       "    </tr>\n",
       "    <tr>\n",
       "      <th>3</th>\n",
       "      <td>brovary</td>\n",
       "      <td>50.5000</td>\n",
       "      <td>30.7667</td>\n",
       "      <td>294.26</td>\n",
       "      <td>45</td>\n",
       "      <td>0</td>\n",
       "      <td>8.00</td>\n",
       "      <td>UA</td>\n",
       "      <td>1619780359</td>\n",
       "    </tr>\n",
       "    <tr>\n",
       "      <th>4</th>\n",
       "      <td>makakilo city</td>\n",
       "      <td>21.3469</td>\n",
       "      <td>-158.0858</td>\n",
       "      <td>296.15</td>\n",
       "      <td>68</td>\n",
       "      <td>1</td>\n",
       "      <td>2.57</td>\n",
       "      <td>US</td>\n",
       "      <td>1619780359</td>\n",
       "    </tr>\n",
       "    <tr>\n",
       "      <th>...</th>\n",
       "      <td>...</td>\n",
       "      <td>...</td>\n",
       "      <td>...</td>\n",
       "      <td>...</td>\n",
       "      <td>...</td>\n",
       "      <td>...</td>\n",
       "      <td>...</td>\n",
       "      <td>...</td>\n",
       "      <td>...</td>\n",
       "    </tr>\n",
       "    <tr>\n",
       "      <th>545</th>\n",
       "      <td>solnechnyy</td>\n",
       "      <td>50.7214</td>\n",
       "      <td>136.6319</td>\n",
       "      <td>274.31</td>\n",
       "      <td>86</td>\n",
       "      <td>90</td>\n",
       "      <td>2.77</td>\n",
       "      <td>RU</td>\n",
       "      <td>1619780524</td>\n",
       "    </tr>\n",
       "    <tr>\n",
       "      <th>546</th>\n",
       "      <td>minna</td>\n",
       "      <td>9.6139</td>\n",
       "      <td>6.5569</td>\n",
       "      <td>306.15</td>\n",
       "      <td>49</td>\n",
       "      <td>20</td>\n",
       "      <td>4.63</td>\n",
       "      <td>NG</td>\n",
       "      <td>1619780239</td>\n",
       "    </tr>\n",
       "    <tr>\n",
       "      <th>547</th>\n",
       "      <td>surovikino</td>\n",
       "      <td>48.6078</td>\n",
       "      <td>42.8486</td>\n",
       "      <td>284.98</td>\n",
       "      <td>85</td>\n",
       "      <td>100</td>\n",
       "      <td>3.79</td>\n",
       "      <td>RU</td>\n",
       "      <td>1619780231</td>\n",
       "    </tr>\n",
       "    <tr>\n",
       "      <th>548</th>\n",
       "      <td>kavaratti</td>\n",
       "      <td>10.5669</td>\n",
       "      <td>72.6420</td>\n",
       "      <td>303.02</td>\n",
       "      <td>72</td>\n",
       "      <td>10</td>\n",
       "      <td>3.15</td>\n",
       "      <td>IN</td>\n",
       "      <td>1619780524</td>\n",
       "    </tr>\n",
       "    <tr>\n",
       "      <th>549</th>\n",
       "      <td>manokwari</td>\n",
       "      <td>-0.8667</td>\n",
       "      <td>134.0833</td>\n",
       "      <td>300.13</td>\n",
       "      <td>77</td>\n",
       "      <td>100</td>\n",
       "      <td>2.93</td>\n",
       "      <td>ID</td>\n",
       "      <td>1619780524</td>\n",
       "    </tr>\n",
       "  </tbody>\n",
       "</table>\n",
       "<p>550 rows × 9 columns</p>\n",
       "</div>"
      ],
      "text/plain": [
       "              City      Lat       Lng  Max Temp  Humidity  Cloudiness  \\\n",
       "0      yellowknife  62.4560 -114.3525    272.15        64          75   \n",
       "1        esperance -33.8667  121.9000    285.15        94          40   \n",
       "2     punta arenas -53.1500  -70.9167    277.15       100          90   \n",
       "3          brovary  50.5000   30.7667    294.26        45           0   \n",
       "4    makakilo city  21.3469 -158.0858    296.15        68           1   \n",
       "..             ...      ...       ...       ...       ...         ...   \n",
       "545     solnechnyy  50.7214  136.6319    274.31        86          90   \n",
       "546          minna   9.6139    6.5569    306.15        49          20   \n",
       "547     surovikino  48.6078   42.8486    284.98        85         100   \n",
       "548      kavaratti  10.5669   72.6420    303.02        72          10   \n",
       "549      manokwari  -0.8667  134.0833    300.13        77         100   \n",
       "\n",
       "     Wind Speed Country        Date  \n",
       "0          5.14      CA  1619780343  \n",
       "1          2.57      AU  1619780358  \n",
       "2          5.14      CL  1619780358  \n",
       "3          8.00      UA  1619780359  \n",
       "4          2.57      US  1619780359  \n",
       "..          ...     ...         ...  \n",
       "545        2.77      RU  1619780524  \n",
       "546        4.63      NG  1619780239  \n",
       "547        3.79      RU  1619780231  \n",
       "548        3.15      IN  1619780524  \n",
       "549        2.93      ID  1619780524  \n",
       "\n",
       "[550 rows x 9 columns]"
      ]
     },
     "execution_count": 18,
     "metadata": {},
     "output_type": "execute_result"
    }
   ],
   "source": [
    "city_df=pd.read_csv(\"City_Weather.csv\").drop(\"Unnamed: 0\", axis=1)\n",
    "city_df"
   ]
  },
  {
   "cell_type": "code",
   "execution_count": 30,
   "metadata": {
    "scrolled": true
   },
   "outputs": [
    {
     "data": {
      "image/png": "[encoded data removed]",
      "text/plain": [
       "<Figure size 432x288 with 1 Axes>"
      ]
     },
     "metadata": {
      "needs_background": "light"
     },
     "output_type": "display_data"
    }
   ],
   "source": [
    "#City Latitude vs Temperature Plot\n",
    "city_df.plot(kind='scatter', x='Lat', y='Max Temp', facecolors='blue')\n",
    "plt.title('City Latitude vs. Temperature')\n",
    "plt.xlabel('Latitude')\n",
    "plt.ylabel('Max Temperature')\n",
    "plt.grid()\n",
    "plt.savefig(\"../output_data/City Latitude vs. Max Temperature.png\")\n",
    "\n",
    "            "
   ]
  },
  {
   "cell_type": "markdown",
   "metadata": {},
   "source": [
    "## Latitude vs. Humidity Plot"
   ]
  },
  {
   "cell_type": "code",
   "execution_count": 31,
   "metadata": {},
   "outputs": [
    {
     "data": {
      "image/png": "[encoded data removed]",
      "text/plain": [
       "<Figure size 432x288 with 1 Axes>"
      ]
     },
     "metadata": {
      "needs_background": "light"
     },
     "output_type": "display_data"
    }
   ],
   "source": [
    "#City Latitude vs. Humidity Plot\n",
    "city_df.plot(kind='scatter', x='Lat', y='Humidity', facecolors='blue')\n",
    "plt.title('City Latitude vs. Humidity')\n",
    "plt.xlabel('Latitude')\n",
    "plt.ylabel('Humidity (%)')\n",
    "plt.grid()\n",
    "plt.savefig(\"../output_data/City Latitude vs. Humidity.png\")\n",
    "        "
   ]
  },
  {
   "cell_type": "markdown",
   "metadata": {},
   "source": [
    "## Latitude vs. Cloudiness Plot"
   ]
  },
  {
   "cell_type": "code",
   "execution_count": 32,
   "metadata": {},
   "outputs": [
    {
     "data": {
      "image/png": "[encoded data removed]",
      "text/plain": [
       "<Figure size 432x288 with 1 Axes>"
      ]
     },
     "metadata": {
      "needs_background": "light"
     },
     "output_type": "display_data"
    }
   ],
   "source": [
    "#City Latitude vs. Cloudiness Plot\n",
    "city_df.plot(kind='scatter', x='Lat', y='Cloudiness', facecolors='blue')\n",
    "plt.title('City Latitude vs. Cloudiness')\n",
    "plt.xlabel('Latitude')\n",
    "plt.ylabel('Cloudiness (%)')\n",
    "plt.grid()\n",
    "plt.savefig(\"../output_data/City Latitude vs. Cloudiness.png\")\n",
    "        "
   ]
  },
  {
   "cell_type": "markdown",
   "metadata": {},
   "source": [
    "## Latitude vs. Wind Speed Plot"
   ]
  },
  {
   "cell_type": "code",
   "execution_count": 33,
   "metadata": {},
   "outputs": [
    {
     "data": {
      "image/png": "[encoded data removed]",
      "text/plain": [
       "<Figure size 432x288 with 1 Axes>"
      ]
     },
     "metadata": {
      "needs_background": "light"
     },
     "output_type": "display_data"
    }
   ],
   "source": [
    "#City Latitude vs. Wind Speed Plot\n",
    "city_df.plot(kind='scatter', x='Lat', y='Wind Speed', facecolors='blue')\n",
    "plt.title('City Latitude vs. Wind Speed')\n",
    "plt.xlabel('Latitude')\n",
    "plt.ylabel('Wind Speed (mph)')\n",
    "plt.grid()\n",
    "plt.savefig(\"../output_data/City Latitude vs. Wind Speed.png\")\n",
    "        "
   ]
  },
  {
   "cell_type": "markdown",
   "metadata": {},
   "source": [
    "## Linear Regression"
   ]
  },
  {
   "cell_type": "code",
   "execution_count": 35,
   "metadata": {},
   "outputs": [],
   "source": [
    "#Create Linear Regression plots\n",
    "#Define northern and southern hemispheres\n",
    "northern_hemisphere=city_df.loc[pd.to_numeric(city_df[\"Lat\"]).astype(float) > 0, :]\n",
    "southern_hemisphere=city_df.loc[pd.to_numeric(city_df[\"Lat\"]).astype(float) < 0, :]"
   ]
  },
  {
   "cell_type": "markdown",
   "metadata": {},
   "source": [
    "####  Northern Hemisphere - Max Temp vs. Latitude Linear Regression"
   ]
  },
  {
   "cell_type": "code",
   "execution_count": 50,
   "metadata": {},
   "outputs": [
    {
     "name": "stdout",
     "output_type": "stream",
     "text": [
      "Regression line equation is: y =-0.52x + 309.06.\n",
      "The r-squared is: -0.8572282438261499\n",
      "The regression displays a negative correlation.\n",
      "In the Northern Hemisphere, this plot shows that the temperature decreases while the latitude increases.\n"
     ]
    },
    {
     "data": {
      "image/png": "[encoded data removed]",
      "text/plain": [
       "<Figure size 432x288 with 1 Axes>"
      ]
     },
     "metadata": {
      "needs_background": "light"
     },
     "output_type": "display_data"
    }
   ],
   "source": [
    "#Define Northern Hemisphere - Max Temp vs. Latitude Linear Reg\n",
    "x = pd.to_numeric(northern_hemisphere['Lat']).astype(float)\n",
    "y = pd.to_numeric(northern_hemisphere['Max Temp']).astype(float)\n",
    "(slope, intercept, rvalue, pvalue, stderr) = linregress(x, y)\n",
    "regress_values = x * slope + intercept\n",
    "line_eq = \"y =\" + str(round(slope,2)) + \"x + \" + str(round(intercept,2))\n",
    "print(f\"Regression line equation is: {line_eq}.\")\n",
    "plt.scatter(x,y)\n",
    "plt.plot(x,regress_values, \"r-\")\n",
    "plt.annotate(line_eq,(6,10),fontsize=12,color=\"red\")\n",
    "plt.xlabel('Latitude')\n",
    "plt.ylabel('Max Temperature')\n",
    "plt.title('Northern Hemisphere - Max Temp vs. Latitude Linear Regression')\n",
    "print(f\"The r-squared is: {rvalue}\")\n",
    "print(\"The regression displays a negative correlation.\")\n",
    "print(\"In the Northern Hemisphere, this plot shows that the temperature decreases while the latitude increases.\")\n",
    "    "
   ]
  },
  {
   "cell_type": "markdown",
   "metadata": {},
   "source": [
    "####  Southern Hemisphere - Max Temp vs. Latitude Linear Regression"
   ]
  },
  {
   "cell_type": "code",
   "execution_count": 60,
   "metadata": {
    "collapsed": true,
    "jupyter": {
     "outputs_hidden": true
    }
   },
   "outputs": [
    {
     "name": "stdout",
     "output_type": "stream",
     "text": [
      "Regression line equation is: y =0.37x + 301.61.\n",
      "The r-squared is: 0.7347356409498871\n",
      "The regression displays a positive correlation.\n",
      "In the Southern Hemisphere, this plot shows that the temperature increases as getting closer to the equator.\n"
     ]
    },
    {
     "data": {
      "image/png": "[encoded data removed]",
      "text/plain": [
       "<Figure size 432x288 with 1 Axes>"
      ]
     },
     "metadata": {
      "needs_background": "light"
     },
     "output_type": "display_data"
    }
   ],
   "source": [
    "#Define Southern Hemisphere - Max Temp vs. Latitude Linear Reg\n",
    "x = pd.to_numeric(southern_hemisphere['Lat']).astype(float)\n",
    "y = pd.to_numeric(southern_hemisphere['Max Temp']).astype(float)\n",
    "(slope, intercept, rvalue, pvalue, stderr) = linregress(x, y)\n",
    "regress_values = x * slope + intercept\n",
    "line_eq = \"y =\" + str(round(slope,2)) + \"x + \" + str(round(intercept,2))\n",
    "print(f\"Regression line equation is: {line_eq}.\")\n",
    "plt.scatter(x,y)\n",
    "plt.plot(x,regress_values, \"r-\")\n",
    "plt.annotate(line_eq,(6,10),fontsize=12,color=\"red\")\n",
    "plt.xlabel('Latitude')\n",
    "plt.ylabel('Max Temperature')\n",
    "plt.title('Southern Hemisphere - Max Temp vs. Latitude Linear Regression')\n",
    "print(f\"The r-squared is: {rvalue}\")\n",
    "print(\"The regression displays a positive correlation.\")\n",
    "print(\"In the Southern Hemisphere, this plot shows that the temperature increases as getting closer to the equator.\")\n",
    "    "
   ]
  },
  {
   "cell_type": "markdown",
   "metadata": {},
   "source": [
    "####  Northern Hemisphere - Humidity (%) vs. Latitude Linear Regression"
   ]
  },
  {
   "cell_type": "code",
   "execution_count": 71,
   "metadata": {},
   "outputs": [
    {
     "name": "stdout",
     "output_type": "stream",
     "text": [
      "Regression line equation is: y =0.22x + 55.59.\n",
      "The r-squared is: 0.17986054237717572\n",
      "The regression displays a positive correlation.\n",
      "In the Northern Hemisphere, this plot cannot determine humidity in relation to latitude.\n"
     ]
    },
    {
     "data": {
      "image/png": "[encoded data removed]",
      "text/plain": [
       "<Figure size 432x288 with 1 Axes>"
      ]
     },
     "metadata": {
      "needs_background": "light"
     },
     "output_type": "display_data"
    }
   ],
   "source": [
    "#Define Northern Hemisphere - Humidity vs. Latitude Linear Reg\n",
    "x = pd.to_numeric(northern_hemisphere['Lat']).astype(float)\n",
    "y = pd.to_numeric(northern_hemisphere['Humidity']).astype(float)\n",
    "(slope, intercept, rvalue, pvalue, stderr) = linregress(x, y)\n",
    "regress_values = x * slope + intercept\n",
    "line_eq = \"y =\" + str(round(slope,2)) + \"x + \" + str(round(intercept,2))\n",
    "print(f\"Regression line equation is: {line_eq}.\")\n",
    "plt.scatter(x,y)\n",
    "plt.plot(x,regress_values, \"r-\")\n",
    "plt.annotate(line_eq,(6,10),fontsize=12,color=\"red\")\n",
    "plt.xlabel('Latitude')\n",
    "plt.ylabel('Humidity (%)')\n",
    "plt.ylim(0,300)\n",
    "plt.title('Northern Hemisphere - Humidity vs. Latitude Linear Regression')\n",
    "print(f\"The r-squared is: {rvalue}\")\n",
    "print(\"The regression displays a positive correlation.\")\n",
    "print(\"In the Northern Hemisphere, this plot cannot determine humidity in relation to latitude.\")\n",
    "    "
   ]
  },
  {
   "cell_type": "markdown",
   "metadata": {},
   "source": [
    "####  Southern Hemisphere - Humidity (%) vs. Latitude Linear Regression"
   ]
  },
  {
   "cell_type": "code",
   "execution_count": 125,
   "metadata": {},
   "outputs": [
    {
     "name": "stdout",
     "output_type": "stream",
     "text": [
      "Regression line equation is: y =0.14x + 77.21.\n",
      "The r-squared is: 0.10161389414049166\n",
      "The regression displays a positive correlation.\n",
      "In the Southern Hemisphere, this plot shows that the latitude does not impact the humidity.\n"
     ]
    },
    {
     "data": {
      "image/png": "[encoded data removed]",
      "text/plain": [
       "<Figure size 432x288 with 1 Axes>"
      ]
     },
     "metadata": {
      "needs_background": "light"
     },
     "output_type": "display_data"
    }
   ],
   "source": [
    "#Define Southern Hemisphere - Humidity vs. Latitude Linear Reg\n",
    "x = pd.to_numeric(southern_hemisphere['Lat']).astype(float)\n",
    "y = pd.to_numeric(southern_hemisphere['Humidity']).astype(float)\n",
    "(slope, intercept, rvalue, pvalue, stderr) = linregress(x, y)\n",
    "regress_values = x * slope + intercept\n",
    "line_eq = \"y =\" + str(round(slope,2)) + \"x + \" + str(round(intercept,2))\n",
    "print(f\"Regression line equation is: {line_eq}.\")\n",
    "plt.scatter(x,y)\n",
    "plt.plot(x,regress_values, \"r-\")\n",
    "plt.annotate(line_eq,(6,10),fontsize=12,color=\"red\")\n",
    "plt.xlabel('Latitude')\n",
    "plt.ylabel('Humidity (%)')\n",
    "plt.ylim(0,300)\n",
    "plt.title('Southern Hemisphere - Humidity vs. Latitude Linear Regression')\n",
    "print(f\"The r-squared is: {rvalue}\")\n",
    "print(\"The regression displays a positive correlation.\")\n",
    "print(\"In the Southern Hemisphere, this plot shows that the latitude does not impact the humidity.\")\n",
    "    "
   ]
  },
  {
   "cell_type": "markdown",
   "metadata": {},
   "source": [
    "####  Northern Hemisphere - Cloudiness (%) vs. Latitude Linear Regression"
   ]
  },
  {
   "cell_type": "code",
   "execution_count": 92,
   "metadata": {},
   "outputs": [
    {
     "name": "stdout",
     "output_type": "stream",
     "text": [
      "Regression line equation is: y =0.32x + 44.56.\n",
      "The r-squared is: 0.1783299966210219\n",
      "The regression displays a positive correlation.\n",
      "In the Northern Hemisphere, this plot shows cloudiness slightly increases with an increase in in latitude.\n"
     ]
    },
    {
     "data": {
      "image/png": "[encoded data removed]",
      "text/plain": [
       "<Figure size 432x288 with 1 Axes>"
      ]
     },
     "metadata": {
      "needs_background": "light"
     },
     "output_type": "display_data"
    }
   ],
   "source": [
    "#Define Northern Hemisphere - Cloudiness vs. Latitude Linear Reg\n",
    "x = pd.to_numeric(northern_hemisphere['Lat']).astype(float)\n",
    "y = pd.to_numeric(northern_hemisphere['Cloudiness']).astype(float)\n",
    "(slope, intercept, rvalue, pvalue, stderr) = linregress(x, y)\n",
    "regress_values = x * slope + intercept\n",
    "line_eq = \"y =\" + str(round(slope,2)) + \"x + \" + str(round(intercept,2))\n",
    "print(f\"Regression line equation is: {line_eq}.\")\n",
    "plt.scatter(x,y)\n",
    "plt.plot(x,regress_values, \"r-\")\n",
    "plt.annotate(line_eq,(6,10),fontsize=12,color=\"red\")\n",
    "plt.xlabel('Latitude')\n",
    "plt.ylabel('Cloudiness (%)')\n",
    "plt.title('Northern Hemisphere - Cloudiness vs. Latitude Linear Regression')\n",
    "print(f\"The r-squared is: {rvalue}\")\n",
    "print(\"The regression displays a positive correlation.\")\n",
    "print(\"In the Northern Hemisphere, this plot shows cloudiness slightly increases with an increase in in latitude.\")\n",
    "    "
   ]
  },
  {
   "cell_type": "markdown",
   "metadata": {},
   "source": [
    "####  Southern Hemisphere - Cloudiness (%) vs. Latitude Linear Regression"
   ]
  },
  {
   "cell_type": "code",
   "execution_count": 102,
   "metadata": {},
   "outputs": [
    {
     "name": "stdout",
     "output_type": "stream",
     "text": [
      "Regression line equation is: y =0.82x + 70.1.\n",
      "The r-squared is: 0.2796314736018398\n",
      "The regression displays a positive correlation.\n",
      "In the Southern Hemisphere, this plot shows cloudiness increases as closer to equator.\n"
     ]
    },
    {
     "data": {
      "image/png": "[encoded data removed]",
      "text/plain": [
       "<Figure size 432x288 with 1 Axes>"
      ]
     },
     "metadata": {
      "needs_background": "light"
     },
     "output_type": "display_data"
    }
   ],
   "source": [
    "#Define Southern Hemisphere - Cloudiness vs. Latitude Linear Reg\n",
    "x = pd.to_numeric(southern_hemisphere['Lat']).astype(float)\n",
    "y = pd.to_numeric(southern_hemisphere['Cloudiness']).astype(float)\n",
    "(slope, intercept, rvalue, pvalue, stderr) = linregress(x, y)\n",
    "regress_values = x * slope + intercept\n",
    "line_eq = \"y =\" + str(round(slope,2)) + \"x + \" + str(round(intercept,2))\n",
    "print(f\"Regression line equation is: {line_eq}.\")\n",
    "plt.scatter(x,y)\n",
    "plt.plot(x,regress_values, \"r-\")\n",
    "plt.annotate(line_eq,(6,10),fontsize=12,color=\"red\")\n",
    "plt.xlabel('Latitude')\n",
    "plt.ylabel('Cloudiness (%)')\n",
    "plt.title('Southern Hemisphere - Cloudiness vs. Latitude Linear Regression')\n",
    "print(f\"The r-squared is: {rvalue}\")\n",
    "print(\"The regression displays a positive correlation.\")\n",
    "print(\"In the Southern Hemisphere, this plot shows cloudiness increases as closer to equator.\")\n",
    "    "
   ]
  },
  {
   "cell_type": "markdown",
   "metadata": {},
   "source": [
    "####  Northern Hemisphere - Wind Speed (mph) vs. Latitude Linear Regression"
   ]
  },
  {
   "cell_type": "code",
   "execution_count": 112,
   "metadata": {},
   "outputs": [
    {
     "name": "stdout",
     "output_type": "stream",
     "text": [
      "Regression line equation is: y =0.01x + 3.35.\n",
      "The r-squared is: 0.07828762930458558\n",
      "The regression displays a positive correlation.\n",
      "In the Northern Hemisphere, this plot shows wind speed stays constant as latitude increases.\n"
     ]
    },
    {
     "data": {
      "image/png": "[encoded data removed]",
      "text/plain": [
       "<Figure size 432x288 with 1 Axes>"
      ]
     },
     "metadata": {
      "needs_background": "light"
     },
     "output_type": "display_data"
    }
   ],
   "source": [
    "#Define Northern Hemisphere - Wind Speed vs. Latitude Linear Reg\n",
    "x = pd.to_numeric(northern_hemisphere['Lat']).astype(float)\n",
    "y = pd.to_numeric(northern_hemisphere['Wind Speed']).astype(float)\n",
    "(slope, intercept, rvalue, pvalue, stderr) = linregress(x, y)\n",
    "regress_values = x * slope + intercept\n",
    "line_eq = \"y =\" + str(round(slope,2)) + \"x + \" + str(round(intercept,2))\n",
    "print(f\"Regression line equation is: {line_eq}.\")\n",
    "plt.scatter(x,y)\n",
    "plt.plot(x,regress_values, \"r-\")\n",
    "plt.annotate(line_eq,(6,10),fontsize=12,color=\"red\")\n",
    "plt.xlabel('Latitude')\n",
    "plt.ylabel('Wind Speed (mph)')\n",
    "plt.title('Northern Hemisphere - Wind Speed vs. Latitude Linear Regression')\n",
    "print(f\"The r-squared is: {rvalue}\")\n",
    "print(\"The regression displays a positive correlation.\")\n",
    "print(\"In the Northern Hemisphere, this plot shows wind speed stays relatively constant as latitude increases.\")\n",
    "    "
   ]
  },
  {
   "cell_type": "markdown",
   "metadata": {},
   "source": [
    "####  Southern Hemisphere - Wind Speed (mph) vs. Latitude Linear Regression"
   ]
  },
  {
   "cell_type": "code",
   "execution_count": 124,
   "metadata": {},
   "outputs": [
    {
     "name": "stdout",
     "output_type": "stream",
     "text": [
      "Regression line equation is: y =-0.03x + 2.54.\n",
      "The r-squared is: -0.18105168553291262\n",
      "The regression displays a negative correlation.\n",
      "In the Southern Hemisphere, this plot shows wind speed decreases as it approaches the equator.\n"
     ]
    },
    {
     "data": {
      "image/png": "[encoded data removed]",
      "text/plain": [
       "<Figure size 432x288 with 1 Axes>"
      ]
     },
     "metadata": {
      "needs_background": "light"
     },
     "output_type": "display_data"
    }
   ],
   "source": [
    "#Define Southern Hemisphere - Wind Speed vs. Latitude Linear Reg\n",
    "x = pd.to_numeric(southern_hemisphere['Lat']).astype(float)\n",
    "y = pd.to_numeric(southern_hemisphere['Wind Speed']).astype(float)\n",
    "(slope, intercept, rvalue, pvalue, stderr) = linregress(x, y)\n",
    "regress_values = x * slope + intercept\n",
    "line_eq = \"y =\" + str(round(slope,2)) + \"x + \" + str(round(intercept,2))\n",
    "print(f\"Regression line equation is: {line_eq}.\")\n",
    "plt.scatter(x,y)\n",
    "plt.plot(x,regress_values, \"r-\")\n",
    "plt.annotate(line_eq,(6,10),fontsize=12,color=\"red\")\n",
    "plt.xlabel('Latitude')\n",
    "plt.ylabel('Wind Speed (mph)')\n",
    "plt.title('Southern Hemisphere - Wind Speed vs. Latitude Linear Regression')\n",
    "print(f\"The r-squared is: {rvalue}\")\n",
    "print(\"The regression displays a negative correlation.\")\n",
    "print(\"In the Southern Hemisphere, this plot shows wind speed decreases as it approaches the equator.\")\n",
    "    "
   ]
  },
  {
   "cell_type": "code",
   "execution_count": null,
   "metadata": {},
   "outputs": [],
   "source": []
  }
 ],
 "metadata": {
  "anaconda-cloud": {},
  "kernel_info": {
   "name": "python3"
  },
  "kernelspec": {
   "display_name": "Python 3",
   "language": "python",
   "name": "python3"
  },
  "language_info": {
   "codemirror_mode": {
    "name": "ipython",
    "version": 3
   },
   "file_extension": ".py",
   "mimetype": "text/x-python",
   "name": "python",
   "nbconvert_exporter": "python",
   "pygments_lexer": "ipython3",
   "version": "3.8.5"
  },
  "latex_envs": {
   "LaTeX_envs_menu_present": true,
   "autoclose": false,
   "autocomplete": true,
   "bibliofile": "biblio.bib",
   "cite_by": "apalike",
   "current_citInitial": 1,
   "eqLabelWithNumbers": true,
   "eqNumInitial": 1,
   "hotkeys": {
    "equation": "Ctrl-E",
    "itemize": "Ctrl-I"
   },
   "labels_anchors": false,
   "latex_user_defs": false,
   "report_style_numbering": false,
   "user_envs_cfg": false
  },
  "nteract": {
   "version": "0.12.3"
  }
 },
 "nbformat": 4,
 "nbformat_minor": 4
}
